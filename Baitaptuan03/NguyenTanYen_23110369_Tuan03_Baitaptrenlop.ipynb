{
 "cells": [
  {
   "cell_type": "markdown",
   "id": "10a232ea-bf1d-45fa-89d1-f617a7244186",
   "metadata": {},
   "source": [
    "## 50 câu hỏi ngắn về Numpy"
   ]
  },
  {
   "cell_type": "markdown",
   "id": "ba2c2125-17b8-416c-9233-ad9d75c89c23",
   "metadata": {},
   "source": [
    "### Câu hỏi 1: import numpy dưới bí danh np và xem phiên bản"
   ]
  },
  {
   "cell_type": "code",
   "execution_count": 1,
   "id": "fa97ab1f-f44a-41c5-acaf-040dda2423d7",
   "metadata": {},
   "outputs": [
    {
     "name": "stdout",
     "output_type": "stream",
     "text": [
      "1.26.4\n"
     ]
    }
   ],
   "source": [
    "import numpy as np\n",
    "print(np.__version__)"
   ]
  },
  {
   "cell_type": "markdown",
   "id": "4b8b0402-524f-4000-baa5-9e4363fceefa",
   "metadata": {},
   "source": [
    "### Câu hỏi 2: Làm thế nào để tạo mảng 1 chiều?"
   ]
  },
  {
   "cell_type": "code",
   "execution_count": 2,
   "id": "d98abb1e-ae94-4d85-8330-80914fe0ab11",
   "metadata": {},
   "outputs": [
    {
     "name": "stdout",
     "output_type": "stream",
     "text": [
      "[1 2 3 4 5]\n"
     ]
    }
   ],
   "source": [
    "import numpy as np\n",
    "arr = np.array([1, 2, 3, 4, 5])\n",
    "print(arr)"
   ]
  },
  {
   "cell_type": "markdown",
   "id": "0e714350-5354-4dc2-8e4c-707b7917c706",
   "metadata": {},
   "source": [
    "### Câu hỏi 3: Làm thế nào để tạo một mảng boolean?"
   ]
  },
  {
   "cell_type": "code",
   "execution_count": 3,
   "id": "536f7557-e2ee-4176-9ffd-f072660ec318",
   "metadata": {},
   "outputs": [
    {
     "name": "stdout",
     "output_type": "stream",
     "text": [
      "[ True False  True False]\n"
     ]
    }
   ],
   "source": [
    "import numpy as np\n",
    "arr = np.array([True, False, True, False])\n",
    "print(arr)"
   ]
  },
  {
   "cell_type": "code",
   "execution_count": 4,
   "id": "90907205-4682-4359-850e-898b2ef6a381",
   "metadata": {},
   "outputs": [
    {
     "name": "stdout",
     "output_type": "stream",
     "text": [
      "[ True  True  True  True  True]\n"
     ]
    }
   ],
   "source": [
    "arr = np.ones(5, dtype=bool)\n",
    "print(arr)"
   ]
  },
  {
   "cell_type": "code",
   "execution_count": 7,
   "id": "417d8d50-0ff3-4817-b9c3-c59073457dc2",
   "metadata": {},
   "outputs": [
    {
     "name": "stdout",
     "output_type": "stream",
     "text": [
      "[False False  True  True  True]\n"
     ]
    }
   ],
   "source": [
    "\n",
    "arr = np.array([1, 2, 3, 4, 5])\n",
    "bool_arr = arr > 2 \n",
    "print(bool_arr)"
   ]
  },
  {
   "cell_type": "code",
   "execution_count": 6,
   "id": "5729213c-59e5-49b1-8b8a-87fa1163d68e",
   "metadata": {},
   "outputs": [
    {
     "name": "stdout",
     "output_type": "stream",
     "text": [
      "[ True  True  True  True  True]\n"
     ]
    }
   ],
   "source": [
    "arr = np.full(5, True, dtype=bool)\n",
    "print(arr)"
   ]
  },
  {
   "cell_type": "markdown",
   "id": "670b4f62-c6d9-45f4-b4a7-7e1d305adfd2",
   "metadata": {},
   "source": [
    "### Câu hỏi 4: Làm thế nào để trích xuất các mục thỏa mãn một điều kiện nhất định từ mảng 1 chiều?\n",
    "Ví dụ: Trích xuất tất cả các số lẻ từ mảng"
   ]
  },
  {
   "cell_type": "code",
   "execution_count": 9,
   "id": "6d3b4c8d-d279-49dc-92b4-c731ff9cfc5e",
   "metadata": {},
   "outputs": [
    {
     "name": "stdout",
     "output_type": "stream",
     "text": [
      "[1 3 5 7 9]\n"
     ]
    }
   ],
   "source": [
    "import numpy as np\n",
    "arr = np.array([1, 2, 3, 4, 5, 6, 7, 8, 9, 10])\n",
    "odd_numbers = arr[arr % 2 == 1]\n",
    "print(odd_numbers)"
   ]
  },
  {
   "cell_type": "markdown",
   "id": "4ba3b6fa-f38a-4cad-8ec8-94ae1975525d",
   "metadata": {},
   "source": [
    "### Câu hỏi 5: Làm thế nào để thay thế các mục thỏa mãn một điều kiện bằng một giá trị khác trong mảng numpy?\n",
    "Ví dụ: Thay thế tất cả các số lẻ trong arr bằng -1"
   ]
  },
  {
   "cell_type": "code",
   "execution_count": 10,
   "id": "d138370c-a76c-454a-92bd-796a8768464d",
   "metadata": {},
   "outputs": [
    {
     "name": "stdout",
     "output_type": "stream",
     "text": [
      "[-1  2 -1  4 -1  6 -1  8 -1 10]\n"
     ]
    }
   ],
   "source": [
    "import numpy as np\n",
    "arr = np.array([1, 2, 3, 4, 5, 6, 7, 8, 9, 10])\n",
    "arr[arr % 2 == 1] = -1\n",
    "print(arr)"
   ]
  },
  {
   "cell_type": "markdown",
   "id": "df0bed91-0e03-4335-b583-81f62649d4a5",
   "metadata": {},
   "source": [
    "### Câu hỏi 6: Làm thế nào để thay thế các mục thỏa mãn một điều kiện mà không ảnh hưởng đến mảng ban đầu?\n",
    "Ví dụ: Thay thế tất cả các số lẻ trong arr bằng -1 mà không thay đổi arr"
   ]
  },
  {
   "cell_type": "code",
   "execution_count": 12,
   "id": "6df6eec0-4ce6-435c-a6da-22078b54a4ec",
   "metadata": {},
   "outputs": [
    {
     "name": "stdout",
     "output_type": "stream",
     "text": [
      "Mảng gốc: [ 1  2  3  4  5  6  7  8  9 10]\n",
      "Mảng mới: [-1  2 -1  4 -1  6 -1  8 -1 10]\n"
     ]
    }
   ],
   "source": [
    "import numpy as np\n",
    "arr = np.array([1, 2, 3, 4, 5, 6, 7, 8, 9, 10])\n",
    "new_arr = arr.copy()\n",
    "new_arr[new_arr % 2 == 1] = -1\n",
    "print(\"Mảng gốc:\", arr)\n",
    "print(\"Mảng mới:\", new_arr)\n"
   ]
  },
  {
   "cell_type": "markdown",
   "id": "b647c4ae-94b2-4715-ab5f-0531ab251744",
   "metadata": {},
   "source": [
    "### Câu hỏi 7: Làm thế nào để định hình lại một mảng?"
   ]
  },
  {
   "cell_type": "code",
   "execution_count": 13,
   "id": "94fb4f87-d237-4761-b53f-33f4c73faaee",
   "metadata": {},
   "outputs": [
    {
     "name": "stdout",
     "output_type": "stream",
     "text": [
      "[[1 2 3]\n",
      " [4 5 6]]\n"
     ]
    }
   ],
   "source": [
    "import numpy as np\n",
    "arr = np.array([1, 2, 3, 4, 5, 6])\n",
    "new_arr = arr.reshape(2, 3)\n",
    "print(new_arr)"
   ]
  },
  {
   "cell_type": "markdown",
   "id": "aad1f83e-aa57-48de-a561-6dff5d937a22",
   "metadata": {},
   "source": [
    "### Câu hỏi 8: Làm thế nào để xếp chồng hai mảng theo chiều dọc?"
   ]
  },
  {
   "cell_type": "code",
   "execution_count": 14,
   "id": "e067ea17-89fa-4c80-9b75-47afc3a37b56",
   "metadata": {},
   "outputs": [
    {
     "name": "stdout",
     "output_type": "stream",
     "text": [
      "[[1 2 3]\n",
      " [4 5 6]]\n"
     ]
    }
   ],
   "source": [
    "import numpy as np\n",
    "arr1 = np.array([1, 2, 3])\n",
    "arr2 = np.array([4, 5, 6])\n",
    "result = np.vstack((arr1, arr2))\n",
    "print(result)"
   ]
  },
  {
   "cell_type": "markdown",
   "id": "5fd2a1c2-7806-41fa-828c-06821f1de76d",
   "metadata": {},
   "source": [
    "### Câu hỏi 9: Làm thế nào để xếp chồng hai mảng theo chiều ngang?"
   ]
  },
  {
   "cell_type": "code",
   "execution_count": 15,
   "id": "913e6f4d-502b-48df-9911-09445526c414",
   "metadata": {},
   "outputs": [
    {
     "name": "stdout",
     "output_type": "stream",
     "text": [
      "[1 2 3 4 5 6]\n"
     ]
    }
   ],
   "source": [
    "import numpy as np\n",
    "arr1 = np.array([1, 2, 3])\n",
    "arr2 = np.array([4, 5, 6])\n",
    "result = np.hstack((arr1, arr2))\n",
    "print(result)"
   ]
  },
  {
   "cell_type": "markdown",
   "id": "42773514-47ee-432d-b43c-27e45b52df5c",
   "metadata": {},
   "source": [
    "### Câu hỏi 10: Làm thế nào để tạo các chuỗi tùy chỉnh trong numpy mà không cần mã hóa cứng?\n",
    "Ví dụ: \n",
    "Input: a = np.array([1,2,3])\n",
    "\n",
    "Output: array([1, 1, 1, 2, 2, 2, 3, 3, 3, 1, 2, 3, 1, 2, 3, 1, 2, 3])"
   ]
  },
  {
   "cell_type": "code",
   "execution_count": 16,
   "id": "1b36f331-116a-4ecc-8faa-04fb7ea1453b",
   "metadata": {},
   "outputs": [
    {
     "name": "stdout",
     "output_type": "stream",
     "text": [
      "[1 1 1 2 2 2 3 3 3 1 2 3 1 2 3 1 2 3]\n"
     ]
    }
   ],
   "source": [
    "import numpy as np\n",
    "a = np.array([1, 2, 3])\n",
    "repeat_part = np.repeat(a, 3)\n",
    "tile_part = np.tile(a, 3)\n",
    "result = np.concatenate((repeat_part, tile_part))\n",
    "print(result)"
   ]
  },
  {
   "cell_type": "markdown",
   "id": "b54fabab-c8d7-4c1a-8af1-dd8b60ec8db2",
   "metadata": {},
   "source": [
    "### Câu hỏi 11. Làm thế nào để lấy các mục chung giữa hai mảng numpy python?\n",
    "Ví dụ: \n",
    "Input: a = np.array([1,2,3,2,3,4,3,4,5,6])\n",
    "\n",
    "        b = np.array([7,2,10,2,7,4,9,4,9,8])\n",
    "\n",
    "Output: array([2, 4])"
   ]
  },
  {
   "cell_type": "code",
   "execution_count": 17,
   "id": "37e0fbce-5aa9-4433-8aee-dcc0826d5e8a",
   "metadata": {},
   "outputs": [
    {
     "name": "stdout",
     "output_type": "stream",
     "text": [
      "[2 4]\n"
     ]
    }
   ],
   "source": [
    "import numpy as np\n",
    "a = np.array([1, 2, 3, 2, 3, 4, 3, 4, 5, 6])\n",
    "b = np.array([7, 2, 10, 2, 7, 4, 9, 4, 9, 8])\n",
    "common_elements = np.intersect1d(a, b)\n",
    "print(common_elements)"
   ]
  },
  {
   "cell_type": "code",
   "execution_count": 18,
   "id": "f7aee796-f481-4d56-a199-4508b24479d5",
   "metadata": {},
   "outputs": [
    {
     "name": "stdout",
     "output_type": "stream",
     "text": [
      "[2 4]\n"
     ]
    }
   ],
   "source": [
    "import numpy as np\n",
    "a = np.array([1, 2, 3, 2, 3, 4, 3, 4, 5, 6])\n",
    "b = np.array([7, 2, 10, 2, 7, 4, 9, 4, 9, 8])\n",
    "mask = np.in1d(a, b)\n",
    "common_elements = np.unique(a[mask])\n",
    "print(common_elements)"
   ]
  },
  {
   "cell_type": "markdown",
   "id": "c47faf97-6034-4427-aedb-44fdc6583fdd",
   "metadata": {},
   "source": [
    "### Câu hỏi 12. Làm thế nào để xóa khỏi một mảng những mục tồn tại trong mảng khác? \n",
    "Ví dụ: Input: a = np.array([1,2,3,4,5])\n",
    "\n",
    "              b = np.array([5,6,7,8,9])\n",
    "\n",
    "Output: array([1,2,3,4])"
   ]
  },
  {
   "cell_type": "code",
   "execution_count": 19,
   "id": "d7ce62d8-c3d0-4b8e-90a1-fb86c646d86a",
   "metadata": {},
   "outputs": [
    {
     "name": "stdout",
     "output_type": "stream",
     "text": [
      "[1 2 3 4]\n"
     ]
    }
   ],
   "source": [
    "import numpy as np\n",
    "a = np.array([1,2,3,4,5])\n",
    "b = np.array([5,6,7,8,9])\n",
    "result = np.setdiff1d(a, b)\n",
    "print(result)"
   ]
  },
  {
   "cell_type": "markdown",
   "id": "ef417ca6-7e7d-4ba4-8837-0c485fc073d1",
   "metadata": {},
   "source": [
    "### Câu hỏi 13. Làm thế nào để lấy các vị trí mà các phần tử của hai mảng khớp nhau?\n",
    "\n",
    "Ví dụ: \n",
    "\n",
    "Input: a = np.array([1,2,3,2,3,4,3,4,5,6])\n",
    "\n",
    "       b = np.array([7,2,10,2,7,4,9,4,9,8])\n",
    "\n",
    "Output: (array([1, 3, 5, 7]),)"
   ]
  },
  {
   "cell_type": "code",
   "execution_count": 20,
   "id": "70cffccb-0090-4cea-9ffb-d4de29fa8278",
   "metadata": {},
   "outputs": [
    {
     "name": "stdout",
     "output_type": "stream",
     "text": [
      "(array([1, 3, 5, 7], dtype=int64),)\n"
     ]
    }
   ],
   "source": [
    "import numpy as np\n",
    "a = np.array([1,2,3,2,3,4,3,4,5,6])\n",
    "b = np.array([7,2,10,2,7,4,9,4,9,8])\n",
    "result = np.where(a == b)\n",
    "print(result)"
   ]
  },
  {
   "cell_type": "markdown",
   "id": "7306243c-dbb1-43f2-bc8e-dbe7b3a4f681",
   "metadata": {},
   "source": [
    "### Câu hỏi 14. Làm thế nào để trích xuất tất cả các số trong một phạm vi nhất định từ một mảng numpy?\n",
    "\n",
    "Ví dụ: \n",
    "Input: a = np.array([2, 6, 1, 9, 10, 3, 27])\n",
    "\n",
    "Output: (array([6, 9, 10]),)"
   ]
  },
  {
   "cell_type": "code",
   "execution_count": 21,
   "id": "25ea56ca-536b-493c-8304-227a7503efc2",
   "metadata": {},
   "outputs": [
    {
     "name": "stdout",
     "output_type": "stream",
     "text": [
      "[ 6  9 10]\n"
     ]
    }
   ],
   "source": [
    "import numpy as np\n",
    "a = np.array([2, 6, 1, 9, 10, 3, 27])\n",
    "lower_bound = 5\n",
    "upper_bound = 10\n",
    "result = a[(a >= lower_bound) & (a <= upper_bound)]\n",
    "print(result)"
   ]
  },
  {
   "cell_type": "markdown",
   "id": "b893dc4b-ba59-41b4-9f87-bcc3934fb382",
   "metadata": {},
   "source": [
    "### Câu hỏi 16. Làm thế nào để hoán đổi hai cột trong một mảng numpy 2 chiều? "
   ]
  },
  {
   "cell_type": "code",
   "execution_count": 23,
   "id": "fbead736-b47b-444a-b88a-7e5b6aa15720",
   "metadata": {},
   "outputs": [
    {
     "name": "stdout",
     "output_type": "stream",
     "text": [
      "Mảng gốc:\n",
      "[[1 2 3]\n",
      " [4 5 6]\n",
      " [7 8 9]]\n",
      "\n",
      "Mảng sau khi hoán đổi cột 0 và cột 2:\n",
      "[[3 2 1]\n",
      " [6 5 4]\n",
      " [9 8 7]]\n"
     ]
    }
   ],
   "source": [
    "import numpy as np\n",
    "a = np.array([[1, 2, 3], \n",
    "              [4, 5, 6], \n",
    "              [7, 8, 9]])\n",
    "print(\"Mảng gốc:\")\n",
    "print(a)\n",
    "a[:, [0, 2]] = a[:, [2, 0]]\n",
    "print(\"\\nMảng sau khi hoán đổi cột 0 và cột 2:\")\n",
    "print(a)"
   ]
  },
  {
   "cell_type": "markdown",
   "id": "d54707f1-c68e-44b4-89cf-1dc8ffd8998f",
   "metadata": {},
   "source": [
    "### Câu hỏi 17. Làm thế nào để hoán đổi hai hàng trong một mảng numpy 2 chiều? "
   ]
  },
  {
   "cell_type": "code",
   "execution_count": 24,
   "id": "8bb378a3-262f-4fad-a51b-76ef632ee0c2",
   "metadata": {},
   "outputs": [
    {
     "name": "stdout",
     "output_type": "stream",
     "text": [
      "Mảng gốc:\n",
      "[[1 2 3]\n",
      " [4 5 6]\n",
      " [7 8 9]]\n",
      "\n",
      "Mảng sau khi hoán đổi hàng 0 và hàng 2:\n",
      "[[7 8 9]\n",
      " [4 5 6]\n",
      " [1 2 3]]\n"
     ]
    }
   ],
   "source": [
    "import numpy as np\n",
    "a = np.array([[1, 2, 3], \n",
    "              [4, 5, 6], \n",
    "              [7, 8, 9]])\n",
    "print(\"Mảng gốc:\")\n",
    "print(a)\n",
    "a[[0, 2], :] = a[[2, 0], :]\n",
    "print(\"\\nMảng sau khi hoán đổi hàng 0 và hàng 2:\")\n",
    "print(a)\n"
   ]
  },
  {
   "cell_type": "markdown",
   "id": "25edc3ac-4c20-4df2-ac99-8577cd7b7b42",
   "metadata": {},
   "source": [
    "### Câu hỏi 18. Làm thế nào để đảo ngược các hàng của một mảng 2 chiều? "
   ]
  },
  {
   "cell_type": "code",
   "execution_count": 25,
   "id": "3ab32507-507b-45d7-bd6f-c192197cec1d",
   "metadata": {},
   "outputs": [
    {
     "name": "stdout",
     "output_type": "stream",
     "text": [
      "Mảng gốc:\n",
      "[[1 2 3]\n",
      " [4 5 6]\n",
      " [7 8 9]]\n",
      "\n",
      "Mảng sau khi đảo ngược các hàng:\n",
      "[[7 8 9]\n",
      " [4 5 6]\n",
      " [1 2 3]]\n"
     ]
    }
   ],
   "source": [
    "import numpy as np\n",
    "a = np.array([[1, 2, 3], \n",
    "              [4, 5, 6], \n",
    "              [7, 8, 9]])\n",
    "print(\"Mảng gốc:\")\n",
    "print(a)\n",
    "reversed_a = a[::-1, :]\n",
    "print(\"\\nMảng sau khi đảo ngược các hàng:\")\n",
    "print(reversed_a)\n"
   ]
  },
  {
   "cell_type": "markdown",
   "id": "7c17facc-e4b9-4b53-8c24-39e4c2f970a3",
   "metadata": {},
   "source": [
    "### Câu hỏi 19. Làm thế nào để đảo ngược các cột của một mảng 2 chiều?"
   ]
  },
  {
   "cell_type": "code",
   "execution_count": 26,
   "id": "84d754cc-88d2-47c8-8e28-453529494432",
   "metadata": {},
   "outputs": [
    {
     "name": "stdout",
     "output_type": "stream",
     "text": [
      "Mảng gốc:\n",
      "[[1 2 3]\n",
      " [4 5 6]\n",
      " [7 8 9]]\n",
      "\n",
      "Mảng sau khi đảo ngược các cột:\n",
      "[[3 2 1]\n",
      " [6 5 4]\n",
      " [9 8 7]]\n"
     ]
    }
   ],
   "source": [
    "import numpy as np\n",
    "a = np.array([[1, 2, 3], \n",
    "              [4, 5, 6], \n",
    "              [7, 8, 9]])\n",
    "\n",
    "print(\"Mảng gốc:\")\n",
    "print(a)\n",
    "reversed_columns = a[:, ::-1]\n",
    "print(\"\\nMảng sau khi đảo ngược các cột:\")\n",
    "print(reversed_columns)"
   ]
  },
  {
   "cell_type": "markdown",
   "id": "f58eff0c-27fa-42f8-b4e0-bc3abef4b0eb",
   "metadata": {},
   "source": [
    "### Câu hỏi 20. Làm thế nào để tạo một mảng 2 chiều chứa các số thực ngẫu nhiên giữa 5 và 10?"
   ]
  },
  {
   "cell_type": "code",
   "execution_count": 29,
   "id": "6da67084-4816-4aa5-9395-3613e1d8f97b",
   "metadata": {},
   "outputs": [
    {
     "name": "stdout",
     "output_type": "stream",
     "text": [
      "[[6.24309434 7.30735925 7.0875348 ]\n",
      " [5.94996994 6.39149763 9.42349994]\n",
      " [7.8464319  9.49864602 8.39866968]]\n"
     ]
    }
   ],
   "source": [
    "import numpy as np\n",
    "rows, columns = 3, 3\n",
    "random_array = np.random.uniform(5, 10, size=(rows, columns))\n",
    "print(random_array)"
   ]
  },
  {
   "cell_type": "markdown",
   "id": "36d00fbe-de8e-4d6f-8836-ffd6393c4cbd",
   "metadata": {},
   "source": [
    "### Câu hỏi 21. Làm thế nào để chỉ in 3 chữ số thập phân trong mảng numpy python? "
   ]
  },
  {
   "cell_type": "code",
   "execution_count": 30,
   "id": "9091f512-888a-4df8-b349-f7a4add6dd34",
   "metadata": {},
   "outputs": [
    {
     "name": "stdout",
     "output_type": "stream",
     "text": [
      "Mảng gốc:\n",
      "[[8.44139019 6.42319277 9.67545299]\n",
      " [7.34189994 7.20600736 7.80960322]\n",
      " [5.53153569 7.40935896 9.92504609]]\n",
      "\n",
      "Mảng sau khi thiết lập chỉ in 3 chữ số thập phân:\n",
      "[[8.441 6.423 9.675]\n",
      " [7.342 7.206 7.81 ]\n",
      " [5.532 7.409 9.925]]\n"
     ]
    }
   ],
   "source": [
    "import numpy as np\n",
    "a = np.random.uniform(5, 10, size=(3, 3))\n",
    "print(\"Mảng gốc:\")\n",
    "print(a)\n",
    "np.set_printoptions(precision=3)\n",
    "print(\"\\nMảng sau khi thiết lập chỉ in 3 chữ số thập phân:\")\n",
    "print(a)"
   ]
  },
  {
   "cell_type": "markdown",
   "id": "af507e3a-dea0-4924-ba7a-875a6349f0fa",
   "metadata": {},
   "source": [
    "### Câu hỏi 22. Làm thế nào để in đẹp một mảng numpy bằng cách loại bỏ ký hiệu khoa học (như 1e10)? "
   ]
  },
  {
   "cell_type": "code",
   "execution_count": 1,
   "id": "cbb598af-ff37-489b-a918-d50eb9f857c5",
   "metadata": {},
   "outputs": [
    {
     "name": "stdout",
     "output_type": "stream",
     "text": [
      "[   0.000123 2340.          0.0456     78.9       123.      ]\n"
     ]
    }
   ],
   "source": [
    "import numpy as np\n",
    "a = np.array([1.23e-4, 2.34e3, 4.56e-2, 7.89e1, 1.23e2])\n",
    "np.set_printoptions(suppress=True)\n",
    "print(a)"
   ]
  },
  {
   "cell_type": "markdown",
   "id": "b725f530-f49c-4ab4-bba0-84c472c1db5f",
   "metadata": {},
   "source": [
    "### Câu hỏi 24. Làm thế nào để in toàn bộ mảng numpy mà không cần cắt bớt"
   ]
  },
  {
   "cell_type": "code",
   "execution_count": 32,
   "id": "7fbac810-aacf-45cc-984e-985452ce30a1",
   "metadata": {},
   "outputs": [
    {
     "name": "stdout",
     "output_type": "stream",
     "text": [
      "Mảng gốc với các phần tử bị cắt bớt:\n",
      "[  0   1   2   3   4   5   6   7   8   9  10  11  12  13  14  15  16  17\n",
      "  18  19  20  21  22  23  24  25  26  27  28  29  30  31  32  33  34  35\n",
      "  36  37  38  39  40  41  42  43  44  45  46  47  48  49  50  51  52  53\n",
      "  54  55  56  57  58  59  60  61  62  63  64  65  66  67  68  69  70  71\n",
      "  72  73  74  75  76  77  78  79  80  81  82  83  84  85  86  87  88  89\n",
      "  90  91  92  93  94  95  96  97  98  99 100 101 102 103 104 105 106 107\n",
      " 108 109 110 111 112 113 114 115 116 117 118 119 120 121 122 123 124 125\n",
      " 126 127 128 129 130 131 132 133 134 135 136 137 138 139 140 141 142 143\n",
      " 144 145 146 147 148 149 150 151 152 153 154 155 156 157 158 159 160 161\n",
      " 162 163 164 165 166 167 168 169 170 171 172 173 174 175 176 177 178 179\n",
      " 180 181 182 183 184 185 186 187 188 189 190 191 192 193 194 195 196 197\n",
      " 198 199 200 201 202 203 204 205 206 207 208 209 210 211 212 213 214 215\n",
      " 216 217 218 219 220 221 222 223 224 225 226 227 228 229 230 231 232 233\n",
      " 234 235 236 237 238 239 240 241 242 243 244 245 246 247 248 249 250 251\n",
      " 252 253 254 255 256 257 258 259 260 261 262 263 264 265 266 267 268 269\n",
      " 270 271 272 273 274 275 276 277 278 279 280 281 282 283 284 285 286 287\n",
      " 288 289 290 291 292 293 294 295 296 297 298 299 300 301 302 303 304 305\n",
      " 306 307 308 309 310 311 312 313 314 315 316 317 318 319 320 321 322 323\n",
      " 324 325 326 327 328 329 330 331 332 333 334 335 336 337 338 339 340 341\n",
      " 342 343 344 345 346 347 348 349 350 351 352 353 354 355 356 357 358 359\n",
      " 360 361 362 363 364 365 366 367 368 369 370 371 372 373 374 375 376 377\n",
      " 378 379 380 381 382 383 384 385 386 387 388 389 390 391 392 393 394 395\n",
      " 396 397 398 399 400 401 402 403 404 405 406 407 408 409 410 411 412 413\n",
      " 414 415 416 417 418 419 420 421 422 423 424 425 426 427 428 429 430 431\n",
      " 432 433 434 435 436 437 438 439 440 441 442 443 444 445 446 447 448 449\n",
      " 450 451 452 453 454 455 456 457 458 459 460 461 462 463 464 465 466 467\n",
      " 468 469 470 471 472 473 474 475 476 477 478 479 480 481 482 483 484 485\n",
      " 486 487 488 489 490 491 492 493 494 495 496 497 498 499 500 501 502 503\n",
      " 504 505 506 507 508 509 510 511 512 513 514 515 516 517 518 519 520 521\n",
      " 522 523 524 525 526 527 528 529 530 531 532 533 534 535 536 537 538 539\n",
      " 540 541 542 543 544 545 546 547 548 549 550 551 552 553 554 555 556 557\n",
      " 558 559 560 561 562 563 564 565 566 567 568 569 570 571 572 573 574 575\n",
      " 576 577 578 579 580 581 582 583 584 585 586 587 588 589 590 591 592 593\n",
      " 594 595 596 597 598 599 600 601 602 603 604 605 606 607 608 609 610 611\n",
      " 612 613 614 615 616 617 618 619 620 621 622 623 624 625 626 627 628 629\n",
      " 630 631 632 633 634 635 636 637 638 639 640 641 642 643 644 645 646 647\n",
      " 648 649 650 651 652 653 654 655 656 657 658 659 660 661 662 663 664 665\n",
      " 666 667 668 669 670 671 672 673 674 675 676 677 678 679 680 681 682 683\n",
      " 684 685 686 687 688 689 690 691 692 693 694 695 696 697 698 699 700 701\n",
      " 702 703 704 705 706 707 708 709 710 711 712 713 714 715 716 717 718 719\n",
      " 720 721 722 723 724 725 726 727 728 729 730 731 732 733 734 735 736 737\n",
      " 738 739 740 741 742 743 744 745 746 747 748 749 750 751 752 753 754 755\n",
      " 756 757 758 759 760 761 762 763 764 765 766 767 768 769 770 771 772 773\n",
      " 774 775 776 777 778 779 780 781 782 783 784 785 786 787 788 789 790 791\n",
      " 792 793 794 795 796 797 798 799 800 801 802 803 804 805 806 807 808 809\n",
      " 810 811 812 813 814 815 816 817 818 819 820 821 822 823 824 825 826 827\n",
      " 828 829 830 831 832 833 834 835 836 837 838 839 840 841 842 843 844 845\n",
      " 846 847 848 849 850 851 852 853 854 855 856 857 858 859 860 861 862 863\n",
      " 864 865 866 867 868 869 870 871 872 873 874 875 876 877 878 879 880 881\n",
      " 882 883 884 885 886 887 888 889 890 891 892 893 894 895 896 897 898 899\n",
      " 900 901 902 903 904 905 906 907 908 909 910 911 912 913 914 915 916 917\n",
      " 918 919 920 921 922 923 924 925 926 927 928 929 930 931 932 933 934 935\n",
      " 936 937 938 939 940 941 942 943 944 945 946 947 948 949 950 951 952 953\n",
      " 954 955 956 957 958 959 960 961 962 963 964 965 966 967 968 969 970 971\n",
      " 972 973 974 975 976 977 978 979 980 981 982 983 984 985 986 987 988 989\n",
      " 990 991 992 993 994 995 996 997 998 999]\n",
      "\n",
      "Mảng sau khi thiết lập để in toàn bộ:\n",
      "[  0   1   2   3   4   5   6   7   8   9  10  11  12  13  14  15  16  17\n",
      "  18  19  20  21  22  23  24  25  26  27  28  29  30  31  32  33  34  35\n",
      "  36  37  38  39  40  41  42  43  44  45  46  47  48  49  50  51  52  53\n",
      "  54  55  56  57  58  59  60  61  62  63  64  65  66  67  68  69  70  71\n",
      "  72  73  74  75  76  77  78  79  80  81  82  83  84  85  86  87  88  89\n",
      "  90  91  92  93  94  95  96  97  98  99 100 101 102 103 104 105 106 107\n",
      " 108 109 110 111 112 113 114 115 116 117 118 119 120 121 122 123 124 125\n",
      " 126 127 128 129 130 131 132 133 134 135 136 137 138 139 140 141 142 143\n",
      " 144 145 146 147 148 149 150 151 152 153 154 155 156 157 158 159 160 161\n",
      " 162 163 164 165 166 167 168 169 170 171 172 173 174 175 176 177 178 179\n",
      " 180 181 182 183 184 185 186 187 188 189 190 191 192 193 194 195 196 197\n",
      " 198 199 200 201 202 203 204 205 206 207 208 209 210 211 212 213 214 215\n",
      " 216 217 218 219 220 221 222 223 224 225 226 227 228 229 230 231 232 233\n",
      " 234 235 236 237 238 239 240 241 242 243 244 245 246 247 248 249 250 251\n",
      " 252 253 254 255 256 257 258 259 260 261 262 263 264 265 266 267 268 269\n",
      " 270 271 272 273 274 275 276 277 278 279 280 281 282 283 284 285 286 287\n",
      " 288 289 290 291 292 293 294 295 296 297 298 299 300 301 302 303 304 305\n",
      " 306 307 308 309 310 311 312 313 314 315 316 317 318 319 320 321 322 323\n",
      " 324 325 326 327 328 329 330 331 332 333 334 335 336 337 338 339 340 341\n",
      " 342 343 344 345 346 347 348 349 350 351 352 353 354 355 356 357 358 359\n",
      " 360 361 362 363 364 365 366 367 368 369 370 371 372 373 374 375 376 377\n",
      " 378 379 380 381 382 383 384 385 386 387 388 389 390 391 392 393 394 395\n",
      " 396 397 398 399 400 401 402 403 404 405 406 407 408 409 410 411 412 413\n",
      " 414 415 416 417 418 419 420 421 422 423 424 425 426 427 428 429 430 431\n",
      " 432 433 434 435 436 437 438 439 440 441 442 443 444 445 446 447 448 449\n",
      " 450 451 452 453 454 455 456 457 458 459 460 461 462 463 464 465 466 467\n",
      " 468 469 470 471 472 473 474 475 476 477 478 479 480 481 482 483 484 485\n",
      " 486 487 488 489 490 491 492 493 494 495 496 497 498 499 500 501 502 503\n",
      " 504 505 506 507 508 509 510 511 512 513 514 515 516 517 518 519 520 521\n",
      " 522 523 524 525 526 527 528 529 530 531 532 533 534 535 536 537 538 539\n",
      " 540 541 542 543 544 545 546 547 548 549 550 551 552 553 554 555 556 557\n",
      " 558 559 560 561 562 563 564 565 566 567 568 569 570 571 572 573 574 575\n",
      " 576 577 578 579 580 581 582 583 584 585 586 587 588 589 590 591 592 593\n",
      " 594 595 596 597 598 599 600 601 602 603 604 605 606 607 608 609 610 611\n",
      " 612 613 614 615 616 617 618 619 620 621 622 623 624 625 626 627 628 629\n",
      " 630 631 632 633 634 635 636 637 638 639 640 641 642 643 644 645 646 647\n",
      " 648 649 650 651 652 653 654 655 656 657 658 659 660 661 662 663 664 665\n",
      " 666 667 668 669 670 671 672 673 674 675 676 677 678 679 680 681 682 683\n",
      " 684 685 686 687 688 689 690 691 692 693 694 695 696 697 698 699 700 701\n",
      " 702 703 704 705 706 707 708 709 710 711 712 713 714 715 716 717 718 719\n",
      " 720 721 722 723 724 725 726 727 728 729 730 731 732 733 734 735 736 737\n",
      " 738 739 740 741 742 743 744 745 746 747 748 749 750 751 752 753 754 755\n",
      " 756 757 758 759 760 761 762 763 764 765 766 767 768 769 770 771 772 773\n",
      " 774 775 776 777 778 779 780 781 782 783 784 785 786 787 788 789 790 791\n",
      " 792 793 794 795 796 797 798 799 800 801 802 803 804 805 806 807 808 809\n",
      " 810 811 812 813 814 815 816 817 818 819 820 821 822 823 824 825 826 827\n",
      " 828 829 830 831 832 833 834 835 836 837 838 839 840 841 842 843 844 845\n",
      " 846 847 848 849 850 851 852 853 854 855 856 857 858 859 860 861 862 863\n",
      " 864 865 866 867 868 869 870 871 872 873 874 875 876 877 878 879 880 881\n",
      " 882 883 884 885 886 887 888 889 890 891 892 893 894 895 896 897 898 899\n",
      " 900 901 902 903 904 905 906 907 908 909 910 911 912 913 914 915 916 917\n",
      " 918 919 920 921 922 923 924 925 926 927 928 929 930 931 932 933 934 935\n",
      " 936 937 938 939 940 941 942 943 944 945 946 947 948 949 950 951 952 953\n",
      " 954 955 956 957 958 959 960 961 962 963 964 965 966 967 968 969 970 971\n",
      " 972 973 974 975 976 977 978 979 980 981 982 983 984 985 986 987 988 989\n",
      " 990 991 992 993 994 995 996 997 998 999]\n"
     ]
    }
   ],
   "source": [
    "import numpy as np\n",
    "a = np.arange(1000)\n",
    "print(\"Mảng gốc với các phần tử bị cắt bớt:\")\n",
    "print(a)\n",
    "np.set_printoptions(threshold=np.inf)\n",
    "print(\"\\nMảng sau khi thiết lập để in toàn bộ:\")\n",
    "print(a)"
   ]
  },
  {
   "cell_type": "markdown",
   "id": "250594ef-54ee-442f-a1dd-f677391488f4",
   "metadata": {},
   "source": [
    "### Câu hỏi 28. Làm thế nào để tính giá trị trung bình, trung vị, độ lệch chuẩn của một mảng numpy?"
   ]
  },
  {
   "cell_type": "code",
   "execution_count": 4,
   "id": "b22d13c6-9897-4993-891c-a7cffa1a72cf",
   "metadata": {},
   "outputs": [
    {
     "name": "stdout",
     "output_type": "stream",
     "text": [
      "Giá trị trung bình: 5.0\n",
      "Trung vị: 5.0\n",
      "Độ lệch chuẩn: 2.581988897471611\n"
     ]
    }
   ],
   "source": [
    "import numpy as np\n",
    "arr = np.array([1, 2, 3, 4, 5, 6, 7, 8, 9])\n",
    "\n",
    "gia_tri_trung_binh = np.mean(arr)\n",
    "trung_vi = np.median(arr)\n",
    "do_lech_chuan = np.std(arr)\n",
    "\n",
    "print(f\"Giá trị trung bình: {gia_tri_trung_binh}\")\n",
    "print(f\"Trung vị: {trung_vi}\")\n",
    "print(f\"Độ lệch chuẩn: {do_lech_chuan}\")\n"
   ]
  },
  {
   "cell_type": "markdown",
   "id": "596dc0c1-921f-427a-ab3f-8fe074055b97",
   "metadata": {},
   "source": [
    "### Câu hỏi 29. Làm thế nào để chuẩn hóa một mảng sao cho các giá trị nằm chính xác trong khoảng từ 0 đến 1?"
   ]
  },
  {
   "cell_type": "code",
   "execution_count": 5,
   "id": "ba9f6c0d-b516-40ee-8753-6e24cf2e1622",
   "metadata": {},
   "outputs": [
    {
     "name": "stdout",
     "output_type": "stream",
     "text": [
      "Mảng sau khi chuẩn hóa: [0.   0.25 0.5  0.75 1.  ]\n"
     ]
    }
   ],
   "source": [
    "import numpy as np\n",
    "arr = np.array([10, 20, 30, 40, 50])\n",
    "\n",
    "arr_min = np.min(arr)\n",
    "arr_max = np.max(arr)\n",
    "\n",
    "arr_normalized = (arr - arr_min) / (arr_max - arr_min)\n",
    "\n",
    "print(\"Mảng sau khi chuẩn hóa:\", arr_normalized)\n"
   ]
  },
  {
   "cell_type": "markdown",
   "id": "49b934f2-45a0-40b4-b31b-d21a4d03b12b",
   "metadata": {},
   "source": [
    "### Câu hỏi 30. Làm thế nào để tính điểm softmax?"
   ]
  },
  {
   "cell_type": "code",
   "execution_count": 6,
   "id": "aa22c936-122d-40e4-9906-cd913ed252f4",
   "metadata": {},
   "outputs": [
    {
     "name": "stdout",
     "output_type": "stream",
     "text": [
      "Giá trị softmax: [0.65900114 0.24243297 0.09856589]\n"
     ]
    }
   ],
   "source": [
    "import numpy as np\n",
    "\n",
    "def softmax(x):\n",
    "    exp_x = np.exp(x - np.max(x))  \n",
    "    return exp_x / np.sum(exp_x)\n",
    "\n",
    "arr = np.array([2.0, 1.0, 0.1])\n",
    "softmax_values = softmax(arr)\n",
    "\n",
    "print(\"Giá trị softmax:\", softmax_values)"
   ]
  },
  {
   "cell_type": "markdown",
   "id": "f0a73488-1cc4-429f-bd78-3746e01eb8cb",
   "metadata": {},
   "source": [
    "### Câu hỏi 32. Làm thế nào để chèn các giá trị ở các vị trí ngẫu nhiên trong một mảng?\n",
    "\n",
    "Ví dụ: Chèn giá trị 0 vào 20 vị trí ngẫu nhiên trong tập dữ liệu a"
   ]
  },
  {
   "cell_type": "code",
   "execution_count": 7,
   "id": "aaced55b-5524-48fc-b34e-53def3efad28",
   "metadata": {},
   "outputs": [
    {
     "name": "stdout",
     "output_type": "stream",
     "text": [
      "Mảng sau khi chèn 0 vào các vị trí ngẫu nhiên:\n",
      "[  1   2   3   4   5   6   7   8   0  10  11  12   0   0  15  16  17  18\n",
      "  19   0   0  22   0  24  25  26  27  28  29   0  31  32  33  34  35  36\n",
      "  37   0  39   0  41   0  43   0  45  46  47  48  49  50  51  52  53  54\n",
      "  55  56   0  58  59  60   0  62  63  64  65  66  67  68  69  70  71  72\n",
      "  73  74  75  76   0  78  79  80   0  82   0   0  85  86   0  88  89   0\n",
      "  91  92  93  94  95  96  97  98   0 100]\n"
     ]
    }
   ],
   "source": [
    "import numpy as np\n",
    "a = np.arange(1, 101)  \n",
    "num_insertions = 20\n",
    "random_indices = np.random.choice(len(a), num_insertions, replace=False)\n",
    "a[random_indices] = 0\n",
    "print(\"Mảng sau khi chèn 0 vào các vị trí ngẫu nhiên:\")\n",
    "print(a)"
   ]
  },
  {
   "cell_type": "markdown",
   "id": "736e5117-61cd-48c1-9ae8-278926e586a7",
   "metadata": {},
   "source": [
    "### Câu hỏi 34. Làm thế nào để lọc một mảng numpy dựa trên hai hoặc nhiều điều kiện?\n",
    "\n",
    "Ví dụ: Lọc các hàng của a có các giá trị của (cột thứ 3) > 1,5 và các giá trị (cột thứ 1) < 5,0"
   ]
  },
  {
   "cell_type": "code",
   "execution_count": 8,
   "id": "eee1ae75-f872-4e53-9fbe-48f9a2a7f3bb",
   "metadata": {},
   "outputs": [
    {
     "name": "stdout",
     "output_type": "stream",
     "text": [
      "Mảng ban đầu:\n",
      "[[3.74540119 9.50714306 7.31993942]\n",
      " [5.98658484 1.5601864  1.5599452 ]\n",
      " [0.58083612 8.66176146 6.01115012]\n",
      " [7.08072578 0.20584494 9.69909852]\n",
      " [8.32442641 2.12339111 1.81824967]]\n",
      "\n",
      "Mảng sau khi lọc:\n",
      "[[3.74540119 9.50714306 7.31993942]\n",
      " [0.58083612 8.66176146 6.01115012]]\n"
     ]
    }
   ],
   "source": [
    "import numpy as np\n",
    "np.random.seed(42)  \n",
    "a = np.random.rand(5, 3) * 10  \n",
    "filtered_rows = a[(a[:, 2] > 1.5) & (a[:, 0] < 5.0)]\n",
    "\n",
    "print(\"Mảng ban đầu:\")\n",
    "print(a)\n",
    "print(\"\\nMảng sau khi lọc:\")\n",
    "print(filtered_rows)"
   ]
  },
  {
   "cell_type": "markdown",
   "id": "9626f29b-cf5f-4809-a11c-076b7d01d208",
   "metadata": {},
   "source": [
    "### Câu hỏi 36. Làm thế nào để tìm mối tương quan giữa hai cột của mảng numpy?"
   ]
  },
  {
   "cell_type": "code",
   "execution_count": 9,
   "id": "e685409d-a6ed-431a-8ee4-15ae5924c9f1",
   "metadata": {},
   "outputs": [
    {
     "name": "stdout",
     "output_type": "stream",
     "text": [
      "Mảng dữ liệu:\n",
      "[[3.74540119 9.50714306 7.31993942]\n",
      " [5.98658484 1.5601864  1.5599452 ]\n",
      " [0.58083612 8.66176146 6.01115012]\n",
      " [7.08072578 0.20584494 9.69909852]\n",
      " [8.32442641 2.12339111 1.81824967]]\n",
      "\n",
      "Hệ số tương quan giữa cột 1 và cột 3: -0.2723364830947168\n"
     ]
    }
   ],
   "source": [
    "import numpy as np\n",
    "np.random.seed(42) \n",
    "a = np.random.rand(5, 3) * 10  \n",
    "correlation_matrix = np.corrcoef(a[:, 0], a[:, 2])\n",
    "\n",
    "correlation_value = correlation_matrix[0, 1]\n",
    "\n",
    "print(\"Mảng dữ liệu:\")\n",
    "print(a)\n",
    "print(\"\\nHệ số tương quan giữa cột 1 và cột 3:\", correlation_value)"
   ]
  },
  {
   "cell_type": "markdown",
   "id": "42ac071e-15c2-44e8-993c-ee2a66edf97a",
   "metadata": {},
   "source": [
    "### Câu hỏi 44. Làm thế nào để sắp xếp một mảng 2D theo một cột"
   ]
  },
  {
   "cell_type": "code",
   "execution_count": 10,
   "id": "4ba105e4-647b-4ae7-8671-638aa6468c44",
   "metadata": {},
   "outputs": [
    {
     "name": "stdout",
     "output_type": "stream",
     "text": [
      "Mảng ban đầu:\n",
      "[[52 93 15]\n",
      " [72 61 21]\n",
      " [83 87 75]\n",
      " [75 88 24]\n",
      " [ 3 22 53]]\n",
      "\n",
      "Mảng sau khi sắp xếp theo cột thứ 2:\n",
      "[[ 3 22 53]\n",
      " [72 61 21]\n",
      " [83 87 75]\n",
      " [75 88 24]\n",
      " [52 93 15]]\n"
     ]
    }
   ],
   "source": [
    "import numpy as np\n",
    "np.random.seed(42)\n",
    "a = np.random.randint(1, 100, (5, 3))  \n",
    "sorted_array = a[a[:, 1].argsort()]\n",
    "\n",
    "print(\"Mảng ban đầu:\")\n",
    "print(a)\n",
    "print(\"\\nMảng sau khi sắp xếp theo cột thứ 2:\")\n",
    "print(sorted_array)"
   ]
  },
  {
   "cell_type": "markdown",
   "id": "dcad8b50-44ec-45a6-a5e1-fae8a41a7383",
   "metadata": {},
   "source": [
    "### Câu hỏi 45. Làm thế nào để tìm giá trị thường xuyên nhất trong một mảng numpy?"
   ]
  },
  {
   "cell_type": "code",
   "execution_count": 11,
   "id": "1fe6bc89-5a24-438e-9f03-d86068264574",
   "metadata": {},
   "outputs": [
    {
     "name": "stdout",
     "output_type": "stream",
     "text": [
      "Giá trị xuất hiện nhiều nhất: 3.3\n",
      "Số lần xuất hiện: 4\n"
     ]
    }
   ],
   "source": [
    "import numpy as np\n",
    "from scipy.stats import mode\n",
    "a = np.array([1.1, 2.2, 3.3, 2.2, 2.2, 3.3, 3.3, 3.3, 1.1])\n",
    "most_frequent = mode(a, keepdims=False)\n",
    "\n",
    "print(\"Giá trị xuất hiện nhiều nhất:\", most_frequent.mode)\n",
    "print(\"Số lần xuất hiện:\", most_frequent.count)\n"
   ]
  },
  {
   "cell_type": "markdown",
   "id": "8ee0cae4-980e-42de-a93f-26292bea412a",
   "metadata": {},
   "source": [
    "### Câu hỏi 47. Làm thế nào để thay thế tất cả các giá trị lớn hơn một giá trị nhất định thành một ngưỡng nhất định?\n",
    "\n",
    "Ví dụ: Từ mảng a, thay thế tất cả các giá trị lớn hơn 30 đến 30 và nhỏ hơn 10 đến 10."
   ]
  },
  {
   "cell_type": "code",
   "execution_count": 12,
   "id": "1e9fd9da-6f5e-4231-974d-704a76d043b3",
   "metadata": {},
   "outputs": [
    {
     "name": "stdout",
     "output_type": "stream",
     "text": [
      "Mảng ban đầu:\n",
      "[39 29 15 43  8 21 39 19 23 11]\n",
      "\n",
      "Mảng sau khi thay thế:\n",
      "[30 29 15 30 10 21 30 19 23 11]\n"
     ]
    }
   ],
   "source": [
    "import numpy as np\n",
    "np.random.seed(42)\n",
    "a = np.random.randint(1, 50, 10) \n",
    "a_clipped = np.clip(a, 10, 30)\n",
    "\n",
    "print(\"Mảng ban đầu:\")\n",
    "print(a)\n",
    "print(\"\\nMảng sau khi thay thế:\")\n",
    "print(a_clipped)"
   ]
  },
  {
   "cell_type": "markdown",
   "id": "a1368ddb-268a-4706-ae39-b1a293703752",
   "metadata": {},
   "source": [
    "### Câu hỏi 48. Làm thế nào để lấy vị trí của n giá trị hàng đầu từ một mảng numpy?\n",
    "\n",
    "Ví dụ: Lấy vị trí của 5 giá trị lớn nhất trong một mảng cho trước a."
   ]
  },
  {
   "cell_type": "code",
   "execution_count": 13,
   "id": "caba299c-0f72-4cf8-b8d6-0f40cefcecbc",
   "metadata": {},
   "outputs": [
    {
     "name": "stdout",
     "output_type": "stream",
     "text": [
      "Mảng ban đầu:\n",
      "[52 93 15 72 61 21 83 87 75 75]\n",
      "\n",
      "Vị trí của 5 giá trị lớn nhất:\n",
      "[1 7 6 9 8]\n",
      "Giá trị tương ứng:\n",
      "[93 87 83 75 75]\n"
     ]
    }
   ],
   "source": [
    "import numpy as np\n",
    "np.random.seed(42)\n",
    "a = np.random.randint(1, 100, 10) \n",
    "n = 5\n",
    "top_n_indices = np.argsort(a)[-n:][::-1]  \n",
    "print(\"Mảng ban đầu:\")\n",
    "print(a)\n",
    "print(\"\\nVị trí của 5 giá trị lớn nhất:\")\n",
    "print(top_n_indices)\n",
    "print(\"Giá trị tương ứng:\")\n",
    "print(a[top_n_indices])"
   ]
  },
  {
   "cell_type": "markdown",
   "id": "76cd6a89-fd68-4002-9037-3ef72673f260",
   "metadata": {},
   "source": [
    "### Câu hỏi 50. Làm thế nào để chuyển đổi một mảng các mảng thành một mảng phẳng 1 chiều?"
   ]
  },
  {
   "cell_type": "code",
   "execution_count": 14,
   "id": "d99a1f88-57fe-4d54-bf95-7ad7e91490af",
   "metadata": {},
   "outputs": [
    {
     "name": "stdout",
     "output_type": "stream",
     "text": [
      "Mảng ban đầu:\n",
      "[[1 2 3]\n",
      " [4 5 6]]\n",
      "\n",
      "Mảng phẳng:\n",
      "[1 2 3 4 5 6]\n"
     ]
    }
   ],
   "source": [
    "import numpy as np\n",
    "a = np.array([[1, 2, 3], [4, 5, 6]])\n",
    "\n",
    "flattened = a.ravel()\n",
    "print(\"Mảng ban đầu:\")\n",
    "print(a)\n",
    "print(\"\\nMảng phẳng:\")\n",
    "print(flattened)"
   ]
  },
  {
   "cell_type": "code",
   "execution_count": 15,
   "id": "59fc39ef-b0f0-446f-9c89-6a82afbaed89",
   "metadata": {},
   "outputs": [
    {
     "name": "stdout",
     "output_type": "stream",
     "text": [
      "\n",
      "Mảng phẳng (dùng flatten()):\n",
      "[1 2 3 4 5 6]\n"
     ]
    }
   ],
   "source": [
    "flattened = a.flatten()\n",
    "print(\"\\nMảng phẳng (dùng flatten()):\")\n",
    "print(flattened)\n"
   ]
  }
 ],
 "metadata": {
  "kernelspec": {
   "display_name": "base",
   "language": "python",
   "name": "python3"
  },
  "language_info": {
   "codemirror_mode": {
    "name": "ipython",
    "version": 3
   },
   "file_extension": ".py",
   "mimetype": "text/x-python",
   "name": "python",
   "nbconvert_exporter": "python",
   "pygments_lexer": "ipython3",
   "version": "3.12.7"
  }
 },
 "nbformat": 4,
 "nbformat_minor": 5
}
