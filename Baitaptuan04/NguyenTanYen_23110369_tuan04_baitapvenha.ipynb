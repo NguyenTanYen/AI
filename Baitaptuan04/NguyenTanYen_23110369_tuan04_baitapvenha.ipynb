{
 "cells": [
  {
   "cell_type": "markdown",
   "metadata": {},
   "source": [
    "## Importing pandas\n",
    "\n",
    "### Bắt đầu và kiểm tra thiết lập pandas của bạn\n",
    "\n",
    "Mức độ: *easy* \n",
    "\n",
    "**1.** Import pandas dưới bí danh `pd`."
   ]
  },
  {
   "cell_type": "code",
   "execution_count": 31,
   "metadata": {
    "collapsed": true,
    "jupyter": {
     "outputs_hidden": true
    }
   },
   "outputs": [],
   "source": [
    "import pandas as pd"
   ]
  },
  {
   "cell_type": "markdown",
   "metadata": {},
   "source": [
    "Ba câu tiếp theo khó hơn một chút.\n",
    "\n",
    "\n",
    "**26.** Trong ô bên dưới, bạn có một DataFrame `df` bao gồm 10 cột số dấu phẩy động. Chính xác 5 mục trong mỗi hàng là giá trị NaN.\n",
    "\n",
    "Đối với mỗi hàng của DataFrame, hãy tìm *cột* chứa giá trị NaN *thứ ba*.\n",
    "\n",
    "Bạn nên trả về một Chuỗi nhãn cột: `e, c, d, h, d`"
   ]
  },
  {
   "cell_type": "code",
   "execution_count": 32,
   "metadata": {},
   "outputs": [
    {
     "name": "stdout",
     "output_type": "stream",
     "text": [
      "['e', 'c', 'd', 'h', 'd']\n"
     ]
    }
   ],
   "source": [
    "import numpy as np\n",
    "nan = np.nan\n",
    "\n",
    "data = [[0.04,  nan,  nan, 0.25,  nan, 0.43, 0.71, 0.51,  nan,  nan],\n",
    "        [ nan,  nan,  nan, 0.04, 0.76,  nan,  nan, 0.67, 0.76, 0.16],\n",
    "        [ nan,  nan, 0.5 ,  nan, 0.31, 0.4 ,  nan,  nan, 0.24, 0.01],\n",
    "        [0.49,  nan,  nan, 0.62, 0.73, 0.26, 0.85,  nan,  nan,  nan],\n",
    "        [ nan,  nan, 0.41,  nan, 0.05,  nan, 0.61,  nan, 0.48, 0.68]]\n",
    "\n",
    "columns = list('abcdefghij')\n",
    "\n",
    "df = pd.DataFrame(data, columns=columns)\n",
    "\n",
    "nan_pos = df.isna().cumsum(axis=1)  # Đếm số NaN tích lũy theo từng hàng\n",
    "third_nan_cols = nan_pos.eq(3).idxmax(axis=1)  # Tìm cột đầu tiên có tổng bằng 3\n",
    "\n",
    "print(third_nan_cols.tolist())  # ['e', 'c', 'd', 'h', 'd']\n"
   ]
  },
  {
   "cell_type": "markdown",
   "metadata": {},
   "source": [
    "**27.** A DataFrame has a column of groups 'grps' and and column of integer values 'vals': \n",
    "\n",
    "```python\n",
    "df = pd.DataFrame({'grps': list('aaabbcaabcccbbc'), \n",
    "                   'vals': [12,345,3,1,45,14,4,52,54,23,235,21,57,3,87]})\n",
    "```\n",
    "For each *group*, find the sum of the three greatest values. You should end up with the answer as follows:\n",
    "```\n",
    "grps\n",
    "a    409\n",
    "b    156\n",
    "c    345\n",
    "```"
   ]
  },
  {
   "cell_type": "code",
   "execution_count": 33,
   "metadata": {
    "collapsed": true,
    "jupyter": {
     "outputs_hidden": true
    }
   },
   "outputs": [
    {
     "name": "stdout",
     "output_type": "stream",
     "text": [
      "grps\n",
      "a    409\n",
      "b    156\n",
      "c    345\n",
      "Name: vals, dtype: int64\n"
     ]
    }
   ],
   "source": [
    "df = pd.DataFrame({'grps': list('aaabbcaabcccbbc'), \n",
    "                   'vals': [12,345,3,1,45,14,4,52,54,23,235,21,57,3,87]})\n",
    "\n",
    "result = df.groupby('grps')['vals'].apply(lambda x: x.nlargest(3).sum())\n",
    "print(result)"
   ]
  },
  {
   "cell_type": "markdown",
   "metadata": {},
   "source": [
    "**28.** DataFrame `df` được xây dựng bên dưới có hai cột số nguyên 'A' và 'B'. Các giá trị trong 'A' nằm trong khoảng từ 1 đến 100 (bao gồm). \n",
    "\n",
    "Đối với mỗi nhóm 10 số nguyên liên tiếp trong 'A' (tức là `(0, 10]`, `(10, 20]`, ...), hãy tính tổng các giá trị tương ứng trong cột 'B'.\n",
    "\n",
    "Câu trả lời sẽ là một Series như sau:\n",
    "\n",
    "```\n",
    "A\n",
    "(0, 10]      635\n",
    "(10, 20]     360\n",
    "(20, 30]     315\n",
    "(30, 40]     306\n",
    "(40, 50]     750\n",
    "(50, 60]     284\n",
    "(60, 70]     424\n",
    "(70, 80]     526\n",
    "(80, 90]     835\n",
    "(90, 100]    852\n",
    "```"
   ]
  },
  {
   "cell_type": "code",
   "execution_count": 34,
   "metadata": {},
   "outputs": [
    {
     "name": "stdout",
     "output_type": "stream",
     "text": [
      "A_bins\n",
      "(0, 10)      635\n",
      "(10, 20)     360\n",
      "(20, 30)     315\n",
      "(30, 40)     306\n",
      "(40, 50)     750\n",
      "(50, 60)     284\n",
      "(60, 70)     424\n",
      "(70, 80)     526\n",
      "(80, 90)     835\n",
      "(90, 100)    852\n",
      "Name: B, dtype: int32\n"
     ]
    },
    {
     "name": "stderr",
     "output_type": "stream",
     "text": [
      "C:\\Users\\tanye\\AppData\\Local\\Temp\\ipykernel_9348\\1381039253.py:8: FutureWarning: The default of observed=False is deprecated and will be changed to True in a future version of pandas. Pass observed=False to retain current behavior or observed=True to adopt the future default and silence this warning.\n",
      "  result = df.groupby('A_bins')['B'].sum()\n"
     ]
    }
   ],
   "source": [
    "import pandas as pd\n",
    "df = pd.DataFrame(np.random.RandomState(8765).randint(1, 101, size=(100, 2)), columns = [\"A\", \"B\"])\n",
    "\n",
    "bins = np.arange(0, 101, 10)  \n",
    "labels = [(bins[i], bins[i+1]) for i in range(len(bins)-1)]  \n",
    "\n",
    "df['A_bins'] = pd.cut(df['A'], bins=bins, labels=labels, include_lowest=True, right=True)\n",
    "result = df.groupby('A_bins')['B'].sum()\n",
    "\n",
    "print(result)"
   ]
  },
  {
   "cell_type": "markdown",
   "metadata": {},
   "source": [
    "## DataFrames: những vấn đề khó hơn \n",
    "\n",
    "### Những điều này có thể đòi hỏi một chút suy nghĩ vượt ra ngoài khuôn khổ...\n",
    "\n",
    "...nhưng tất cả đều có thể giải quyết được chỉ bằng các phương pháp pandas/NumPy thông thường (và do đó tránh sử dụng vòng lặp `for` rõ ràng)..\n",
    "\n",
    "Mức độ: *hard*"
   ]
  },
  {
   "cell_type": "markdown",
   "metadata": {},
   "source": [
    "**29.** Hãy xem xét DataFrame `df` trong đó có một cột số nguyên 'X':\n",
    "```python\n",
    "df = pd.DataFrame({'X': [7, 2, 0, 3, 4, 2, 5, 0, 3, 4]})\n",
    "```\n",
    "Đối với mỗi giá trị, hãy đếm ngược lại sự khác biệt đến số không trước đó (hoặc thời điểm bắt đầu của Series, tùy theo giá trị nào gần hơn). Do đó, các giá trị này phải là\n",
    "\n",
    "```\n",
    "[1, 2, 0, 1, 2, 3, 4, 0, 1, 2]\n",
    "```\n",
    "\n",
    "Tạo cột mới này thành cột 'Y'."
   ]
  },
  {
   "cell_type": "code",
   "execution_count": 35,
   "metadata": {
    "collapsed": true,
    "jupyter": {
     "outputs_hidden": true
    }
   },
   "outputs": [
    {
     "name": "stdout",
     "output_type": "stream",
     "text": [
      "   X  Y\n",
      "0  7  1\n",
      "1  2  2\n",
      "2  0  0\n",
      "3  3  1\n",
      "4  4  2\n",
      "5  2  3\n",
      "6  5  4\n",
      "7  0  0\n",
      "8  3  1\n",
      "9  4  2\n"
     ]
    }
   ],
   "source": [
    "df = pd.DataFrame({'X': [7, 2, 0, 3, 4, 2, 5, 0, 3, 4]})\n",
    "df['Y'] = (df['X'] != 0).cumsum() - (df['X'] != 0).cumsum().where(df['X'] == 0).ffill().fillna(0).astype(int)\n",
    "print(df)"
   ]
  },
  {
   "cell_type": "markdown",
   "metadata": {},
   "source": [
    "**30.** Hãy xem xét DataFrame được xây dựng bên dưới chứa các hàng và cột dữ liệu số. \n",
    "\n",
    "Tạo danh sách các vị trí chỉ mục hàng-cột của 3 giá trị lớn nhất trong DataFrame này. Trong trường hợp này, câu trả lời sẽ là:\n",
    "```\n",
    "[(5, 7), (6, 4), (2, 5)]\n",
    "```"
   ]
  },
  {
   "cell_type": "code",
   "execution_count": 36,
   "metadata": {
    "collapsed": true,
    "jupyter": {
     "outputs_hidden": true
    }
   },
   "outputs": [
    {
     "name": "stdout",
     "output_type": "stream",
     "text": [
      "[(7, 5), (4, 6), (5, 2)]\n"
     ]
    }
   ],
   "source": [
    "df = pd.DataFrame(np.random.RandomState(30).randint(1, 101, size=(8, 8)))\n",
    "indices = np.unravel_index(np.argsort(df.values.ravel())[-3:], df.shape)\n",
    "top_3_indices = list(zip(indices[0], indices[1]))\n",
    "print(top_3_indices)"
   ]
  },
  {
   "cell_type": "markdown",
   "metadata": {},
   "source": [
    "**31.** Bạn được cung cấp DataFrame bên dưới với một cột ID nhóm, 'grps', và một cột chứa các giá trị số nguyên tương ứng, 'vals'.\n",
    "\n",
    "```python\n",
    "df = pd.DataFrame({\"vals\": np.random.RandomState(31).randint(-30, 30, size=15), \n",
    "                   \"grps\": np.random.RandomState(31).choice([\"A\", \"B\"], 15)})\n",
    "```\n",
    "\n",
    "Tạo một cột mới 'patched_values' chứa các giá trị giống như 'vals' bất kỳ giá trị âm nào trong 'vals' với nhóm mean:\n",
    "\n",
    "```\n",
    "    vals grps  patched_vals\n",
    "0    -12    A          13.6\n",
    "1     -7    B          28.0\n",
    "2    -14    A          13.6\n",
    "3      4    A           4.0\n",
    "4     -7    A          13.6\n",
    "5     28    B          28.0\n",
    "6     -2    A          13.6\n",
    "7     -1    A          13.6\n",
    "8      8    A           8.0\n",
    "9     -2    B          28.0\n",
    "10    28    A          28.0\n",
    "11    12    A          12.0\n",
    "12    16    A          16.0\n",
    "13   -24    A          13.6\n",
    "14   -12    A          13.6\n",
    "```"
   ]
  },
  {
   "cell_type": "code",
   "execution_count": 37,
   "metadata": {
    "collapsed": true,
    "jupyter": {
     "outputs_hidden": true
    }
   },
   "outputs": [
    {
     "name": "stdout",
     "output_type": "stream",
     "text": [
      "    vals grps  patched_vals\n",
      "0    -12    A          13.6\n",
      "1     -7    B          28.0\n",
      "2    -14    A          13.6\n",
      "3      4    A           4.0\n",
      "4     -7    A          13.6\n",
      "5     28    B          28.0\n",
      "6     -2    A          13.6\n",
      "7     -1    A          13.6\n",
      "8      8    A           8.0\n",
      "9     -2    B          28.0\n",
      "10    28    A          28.0\n",
      "11    12    A          12.0\n",
      "12    16    A          16.0\n",
      "13   -24    A          13.6\n",
      "14   -12    A          13.6\n"
     ]
    }
   ],
   "source": [
    "import pandas as pd\n",
    "import numpy as np\n",
    "\n",
    "df = pd.DataFrame({\"vals\": np.random.RandomState(31).randint(-30, 30, size=15),\n",
    "                   \"grps\": np.random.RandomState(31).choice([\"A\", \"B\"], 15)})\n",
    "\n",
    "mean_vals = df[df[\"vals\"] >= 0].groupby(\"grps\")[\"vals\"].mean()\n",
    "\n",
    "df[\"patched_vals\"] = df.apply(lambda row: mean_vals[row[\"grps\"]] if row[\"vals\"] < 0 else row[\"vals\"], axis=1)\n",
    "\n",
    "print(df)\n"
   ]
  },
  {
   "cell_type": "markdown",
   "metadata": {},
   "source": [
    "**32.** Triển khai giá trị trung bình lăn trên các nhóm có kích thước cửa sổ là 3, bỏ qua giá trị NaN. Ví dụ, hãy xem xét DataFrame sau:\n",
    "\n",
    "```python\n",
    ">>> df = pd.DataFrame({'group': list('aabbabbbabab'),\n",
    "                       'value': [1, 2, 3, np.nan, 2, 3, np.nan, 1, 7, 3, np.nan, 8]})\n",
    ">>> df\n",
    "   group  value\n",
    "0      a    1.0\n",
    "1      a    2.0\n",
    "2      b    3.0\n",
    "3      b    NaN\n",
    "4      a    2.0\n",
    "5      b    3.0\n",
    "6      b    NaN\n",
    "7      b    1.0\n",
    "8      a    7.0\n",
    "9      b    3.0\n",
    "10     a    NaN\n",
    "11     b    8.0\n",
    "```\n",
    "Mục tiêu là tính toán Series:\n",
    "\n",
    "```\n",
    "0     1.000000\n",
    "1     1.500000\n",
    "2     3.000000\n",
    "3     3.000000\n",
    "4     1.666667\n",
    "5     3.000000\n",
    "6     3.000000\n",
    "7     2.000000\n",
    "8     3.666667\n",
    "9     2.000000\n",
    "10    4.500000\n",
    "11    4.000000\n",
    "```\n",
    "E.g. cửa sổ đầu tiên có kích thước ba cho nhóm 'b' có các giá trị 3.0, NaN và 3.0 và xuất hiện ở chỉ mục hàng 5. Thay vì là NaN, giá trị trong cột mới ở chỉ mục hàng này phải là 3.0 (chỉ sử dụng hai giá trị không phải NaN để tính giá trị trung bình (3+3)/2)"
   ]
  },
  {
   "cell_type": "code",
   "execution_count": 38,
   "metadata": {
    "collapsed": true,
    "jupyter": {
     "outputs_hidden": true
    }
   },
   "outputs": [
    {
     "name": "stdout",
     "output_type": "stream",
     "text": [
      "   group  value  rolling_mean\n",
      "0      a    1.0      1.000000\n",
      "1      a    2.0      1.500000\n",
      "2      b    3.0      3.000000\n",
      "3      b    NaN      3.000000\n",
      "4      a    2.0      1.666667\n",
      "5      b    3.0      3.000000\n",
      "6      b    NaN      3.000000\n",
      "7      b    1.0      2.000000\n",
      "8      a    7.0      3.666667\n",
      "9      b    3.0      2.000000\n",
      "10     a    NaN      4.500000\n",
      "11     b    8.0      4.000000\n"
     ]
    }
   ],
   "source": [
    "df = pd.DataFrame({'group': list('aabbabbbabab'),\n",
    "                   'value': [1, 2, 3, np.nan, 2, 3, np.nan, 1, 7, 3, np.nan, 8]})\n",
    "df['rolling_mean'] = df.groupby('group')['value'].transform(lambda x: x.rolling(3, min_periods=1).mean())\n",
    "\n",
    "print(df)"
   ]
  },
  {
   "cell_type": "markdown",
   "metadata": {},
   "source": [
    "## Series and DatetimeIndex\n",
    "\n",
    "### Bài tập tạo và thao tác Series với dữ liệu ngày giờ\n",
    "\n",
    "Mức độ: *easy/medium*\n",
    "\n",
    "pandas rất tuyệt vời để làm việc với ngày tháng và thời gian. Những câu đố này khám phá một số chức năng này.\n"
   ]
  },
  {
   "cell_type": "markdown",
   "metadata": {},
   "source": [
    "**33.** Tạo một DatetimeIndex chứa mỗi ngày làm việc của năm 2015 và sử dụng nó để lập chỉ mục cho một Series số ngẫu nhiên. Chúng ta hãy gọi Series này là `s`."
   ]
  },
  {
   "cell_type": "code",
   "execution_count": 39,
   "metadata": {
    "collapsed": true,
    "jupyter": {
     "outputs_hidden": true
    }
   },
   "outputs": [
    {
     "name": "stdout",
     "output_type": "stream",
     "text": [
      "2015-01-01    1\n",
      "2015-01-02    1\n",
      "2015-01-05    1\n",
      "2015-01-06    1\n",
      "2015-01-07    1\n",
      "             ..\n",
      "2015-12-25    1\n",
      "2015-12-28    1\n",
      "2015-12-29    1\n",
      "2015-12-30    1\n",
      "2015-12-31    1\n",
      "Freq: B, Length: 261, dtype: int64\n"
     ]
    }
   ],
   "source": [
    "dates = pd.date_range('2015-01-01', '2015-12-31', freq='B')\n",
    "s = pd.Series(1, index=dates)\n",
    "print(s)"
   ]
  },
  {
   "cell_type": "markdown",
   "metadata": {},
   "source": [
    "**34.** Tìm tổng các giá trị trong `s` của mỗi thứ Wednesday."
   ]
  },
  {
   "cell_type": "code",
   "execution_count": 40,
   "metadata": {
    "collapsed": true,
    "jupyter": {
     "outputs_hidden": true
    }
   },
   "outputs": [
    {
     "name": "stdout",
     "output_type": "stream",
     "text": [
      "52\n"
     ]
    }
   ],
   "source": [
    "wednesday_sum = s[s.index.weekday == 2].sum()\n",
    "print(wednesday_sum)"
   ]
  },
  {
   "cell_type": "markdown",
   "metadata": {},
   "source": [
    "**35.** Đối với mỗi tháng dương lịch trong `s`, hãy tìm giá trị trung bình."
   ]
  },
  {
   "cell_type": "code",
   "execution_count": 41,
   "metadata": {
    "collapsed": true,
    "jupyter": {
     "outputs_hidden": true
    }
   },
   "outputs": [
    {
     "name": "stdout",
     "output_type": "stream",
     "text": [
      "2015-01-31    1.0\n",
      "2015-02-28    1.0\n",
      "2015-03-31    1.0\n",
      "2015-04-30    1.0\n",
      "2015-05-31    1.0\n",
      "2015-06-30    1.0\n",
      "2015-07-31    1.0\n",
      "2015-08-31    1.0\n",
      "2015-09-30    1.0\n",
      "2015-10-31    1.0\n",
      "2015-11-30    1.0\n",
      "2015-12-31    1.0\n",
      "Freq: ME, dtype: float64\n"
     ]
    },
    {
     "name": "stderr",
     "output_type": "stream",
     "text": [
      "C:\\Users\\tanye\\AppData\\Local\\Temp\\ipykernel_9348\\117926256.py:1: FutureWarning: 'M' is deprecated and will be removed in a future version, please use 'ME' instead.\n",
      "  monthly_avg = s.resample('M').mean()\n"
     ]
    }
   ],
   "source": [
    "monthly_avg = s.resample('M').mean()\n",
    "print(monthly_avg)"
   ]
  },
  {
   "cell_type": "markdown",
   "metadata": {},
   "source": [
    "**36.**Đối với mỗi nhóm bốn tháng liên tiếp trong lịch `s`, hãy tìm ngày có giá trị cao nhất."
   ]
  },
  {
   "cell_type": "code",
   "execution_count": 42,
   "metadata": {
    "collapsed": true,
    "jupyter": {
     "outputs_hidden": true
    }
   },
   "outputs": [
    {
     "name": "stdout",
     "output_type": "stream",
     "text": [
      "2015-01-31   2015-01-01\n",
      "2015-05-31   2015-02-02\n",
      "2015-09-30   2015-06-01\n",
      "2016-01-31   2015-10-01\n",
      "Freq: 4ME, dtype: datetime64[ns]\n"
     ]
    },
    {
     "name": "stderr",
     "output_type": "stream",
     "text": [
      "C:\\Users\\tanye\\AppData\\Local\\Temp\\ipykernel_9348\\158340565.py:1: FutureWarning: 'M' is deprecated and will be removed in a future version, please use 'ME' instead.\n",
      "  four_month_max = s.resample('4M').apply(lambda x: x.idxmax())\n"
     ]
    }
   ],
   "source": [
    "four_month_max = s.resample('4M').apply(lambda x: x.idxmax())\n",
    "print(four_month_max)"
   ]
  },
  {
   "cell_type": "markdown",
   "metadata": {},
   "source": [
    "**37.** Tạo DateTimeIndex bao gồm thứ Năm tuần thứ ba của mỗi tháng trong các năm 2015 và 2016."
   ]
  },
  {
   "cell_type": "code",
   "execution_count": 43,
   "metadata": {
    "collapsed": true,
    "jupyter": {
     "outputs_hidden": true
    }
   },
   "outputs": [
    {
     "name": "stdout",
     "output_type": "stream",
     "text": [
      "DatetimeIndex(['2015-01-15', '2015-02-19', '2015-03-19', '2015-04-16',\n",
      "               '2015-05-21', '2015-06-18', '2015-07-16', '2015-08-20',\n",
      "               '2015-09-17', '2015-10-15', '2015-11-19', '2015-12-17',\n",
      "               '2016-01-21', '2016-02-18', '2016-03-17', '2016-04-21',\n",
      "               '2016-05-19', '2016-06-16', '2016-07-21', '2016-08-18',\n",
      "               '2016-09-15', '2016-10-20', '2016-11-17', '2016-12-15'],\n",
      "              dtype='datetime64[ns]', freq='WOM-3THU')\n"
     ]
    }
   ],
   "source": [
    "third_thursdays = pd.date_range('2015-01-01', '2016-12-31', freq='WOM-3THU')\n",
    "print(third_thursdays)"
   ]
  },
  {
   "cell_type": "markdown",
   "metadata": {},
   "source": [
    "## Làm sạch dữ liệu\n",
    "\n",
    "### Làm cho DataFrame dễ làm việc hơn\n",
    "\n",
    "Mức độ: *easy/medium*\n",
    "\n",
    "Điều này xảy ra thường xuyên: ai đó cung cấp cho bạn dữ liệu chứa chuỗi string không đúng định dạng, Python, danh sách và dữ liệu bị thiếu. Làm thế nào để bạn sắp xếp chúng để có thể tiếp tục phân tích?\n",
    "\n",
    "Hãy coi cái được cung cấp này như DataFrame để sử dụng trong các câu sau:\n",
    "\n",
    "```python\n",
    "df = pd.DataFrame({'From_To': ['LoNDon_paris', 'MAdrid_miLAN', 'londON_StockhOlm', \n",
    "                               'Budapest_PaRis', 'Brussels_londOn'],\n",
    "              'FlightNumber': [10045, np.nan, 10065, np.nan, 10085],\n",
    "              'RecentDelays': [[23, 47], [], [24, 43, 87], [13], [67, 32]],\n",
    "                   'Airline': ['KLM(!)', '<Air France> (12)', '(British Airways. )', \n",
    "                               '12. Air France', '\"Swiss Air\"']})\n",
    "```\n",
    "Được định dạng, nó trông như thế này:\n",
    "\n",
    "```\n",
    "            From_To  FlightNumber  RecentDelays              Airline\n",
    "0      LoNDon_paris       10045.0      [23, 47]               KLM(!)\n",
    "1      MAdrid_miLAN           NaN            []    <Air France> (12)\n",
    "2  londON_StockhOlm       10065.0  [24, 43, 87]  (British Airways. )\n",
    "3    Budapest_PaRis           NaN          [13]       12. Air France\n",
    "4   Brussels_londOn       10085.0      [67, 32]          \"Swiss Air\"\n",
    "```\n",
    "\n",
    "\n",
    "(Đây là một số dữ liệu chuyến bay do tác giả bịa ra; nó không có mục đích chính xác theo bất kỳ cách nào.)\n"
   ]
  },
  {
   "cell_type": "markdown",
   "metadata": {},
   "source": [
    "**38.** Một số giá trị trong cột **FlightNumber** bị thiếu (chúng là `NaN`). Những con số này có nghĩa là tăng thêm 10 với mỗi hàng nên cần phải đặt 10055 và 10075 vào vị trí. Sửa đổi `df` để điền vào những con số bị thiếu này và biến cột thành một cột số nguyên (thay vì một cột số thực)."
   ]
  },
  {
   "cell_type": "code",
   "execution_count": 44,
   "metadata": {
    "collapsed": true,
    "jupyter": {
     "outputs_hidden": true
    }
   },
   "outputs": [
    {
     "name": "stdout",
     "output_type": "stream",
     "text": [
      "            From_To  FlightNumber  RecentDelays              Airline\n",
      "0      LoNDon_paris         10045      [23, 47]               KLM(!)\n",
      "1      MAdrid_miLAN         10055            []    <Air France> (12)\n",
      "2  londON_StockhOlm         10065  [24, 43, 87]  (British Airways. )\n",
      "3    Budapest_PaRis         10075          [13]       12. Air France\n",
      "4   Brussels_londOn         10085      [67, 32]          \"Swiss Air\"\n"
     ]
    }
   ],
   "source": [
    "import numpy as np\n",
    "df = pd.DataFrame({'From_To': ['LoNDon_paris', 'MAdrid_miLAN', 'londON_StockhOlm', \n",
    "                               'Budapest_PaRis', 'Brussels_londOn'],\n",
    "                   'FlightNumber': [10045, np.nan, 10065, np.nan, 10085],\n",
    "                   'RecentDelays': [[23, 47], [], [24, 43, 87], [13], [67, 32]],\n",
    "                   'Airline': ['KLM(!)', '<Air France> (12)', '(British Airways. )',\n",
    "                               '12. Air France', '\"Swiss Air\"']})\n",
    "df['FlightNumber'] = df['FlightNumber'].interpolate().astype(int)\n",
    "print(df)\n"
   ]
  },
  {
   "cell_type": "markdown",
   "metadata": {},
   "source": [
    "**39.** Cột **From\\_To** sẽ tốt hơn nếu là hai cột riêng biệt! Tách từng chuỗi trên dấu gạch dưới `_` để tạo một DataFrame tạm thời mới có tên là 'temp' với các giá trị chính xác. Gán tên cột chính xác 'From' và 'To' cho DataFrame tạm thời này."
   ]
  },
  {
   "cell_type": "code",
   "execution_count": 45,
   "metadata": {
    "collapsed": true,
    "jupyter": {
     "outputs_hidden": true
    }
   },
   "outputs": [
    {
     "name": "stdout",
     "output_type": "stream",
     "text": [
      "       From         To\n",
      "0    LoNDon      paris\n",
      "1    MAdrid      miLAN\n",
      "2    londON  StockhOlm\n",
      "3  Budapest      PaRis\n",
      "4  Brussels     londOn\n"
     ]
    }
   ],
   "source": [
    "temp = df['From_To'].str.split('_', expand=True).rename(columns={0: 'From', 1: 'To'})\n",
    "print(temp)"
   ]
  },
  {
   "cell_type": "markdown",
   "metadata": {},
   "source": [
    "**40.** Lưu ý cách viết hoa tên thành phố được trộn lẫn trong DataFrame tạm thời này 'temp'. Chuẩn hóa các chuỗi sao cho chỉ có chữ cái đầu tiên là chữ hoa (ví dụ: \"londON\" sẽ trở thành \"London\".)"
   ]
  },
  {
   "cell_type": "code",
   "execution_count": 46,
   "metadata": {
    "collapsed": true,
    "jupyter": {
     "outputs_hidden": true
    }
   },
   "outputs": [
    {
     "name": "stdout",
     "output_type": "stream",
     "text": [
      "       From         To\n",
      "0    London      Paris\n",
      "1    Madrid      Milan\n",
      "2    London  Stockholm\n",
      "3  Budapest      Paris\n",
      "4  Brussels     London\n"
     ]
    }
   ],
   "source": [
    "temp = temp.apply(lambda x: x.str.capitalize())\n",
    "print(temp)"
   ]
  },
  {
   "cell_type": "markdown",
   "metadata": {},
   "source": [
    "**41.** Xóa cột **From_To** khỏi `df` và đính kèm DataFrame tạm thời 'temp' từ các câu hỏi trước đó."
   ]
  },
  {
   "cell_type": "code",
   "execution_count": 47,
   "metadata": {
    "collapsed": true,
    "jupyter": {
     "outputs_hidden": true
    }
   },
   "outputs": [
    {
     "name": "stdout",
     "output_type": "stream",
     "text": [
      "   FlightNumber  RecentDelays              Airline      From         To\n",
      "0         10045      [23, 47]               KLM(!)    London      Paris\n",
      "1         10055            []    <Air France> (12)    Madrid      Milan\n",
      "2         10065  [24, 43, 87]  (British Airways. )    London  Stockholm\n",
      "3         10075          [13]       12. Air France  Budapest      Paris\n",
      "4         10085      [67, 32]          \"Swiss Air\"  Brussels     London\n"
     ]
    }
   ],
   "source": [
    "df = df.drop(['From_To', 'From', 'To'], axis=1, errors='ignore').join(temp)\n",
    "print(df)"
   ]
  },
  {
   "cell_type": "markdown",
   "metadata": {},
   "source": [
    "**42**. Trong cột **Airline**, bạn có thể thấy một số dấu câu và ký hiệu bổ sung xuất hiện xung quanh tên hãng hàng không. Thực hiện chính xác hóa tên hãng hàng không. Ví dụ: `'(British Airways. )'` phải trở thành `'British Airways'`."
   ]
  },
  {
   "cell_type": "code",
   "execution_count": 48,
   "metadata": {
    "collapsed": true,
    "jupyter": {
     "outputs_hidden": true
    }
   },
   "outputs": [
    {
     "name": "stdout",
     "output_type": "stream",
     "text": [
      "   FlightNumber  RecentDelays          Airline      From         To\n",
      "0         10045      [23, 47]              KLM    London      Paris\n",
      "1         10055            []       Air France    Madrid      Milan\n",
      "2         10065  [24, 43, 87]  British Airways    London  Stockholm\n",
      "3         10075          [13]       Air France  Budapest      Paris\n",
      "4         10085      [67, 32]        Swiss Air  Brussels     London\n"
     ]
    }
   ],
   "source": [
    "df['Airline'] = df['Airline'].astype(str).str.extract(r'([a-zA-Z\\s]+)')[0].str.strip()\n",
    "print(df)"
   ]
  },
  {
   "cell_type": "markdown",
   "metadata": {},
   "source": [
    "**43**. Trong cột RecentDelays, các giá trị đã được nhập vào DataFrame dưới dạng danh sách. Chúng tôi muốn mỗi giá trị đầu tiên trong cột riêng của nó, mỗi giá trị thứ hai trong cột riêng của nó, v.v. Nếu không có giá trị thứ N, giá trị sẽ là NaN.\n",
    "\n",
    "Mở rộng Series của các danh sách thành một DataFrame có tên là `delays`, đổi tên các cột `delay_1`, `delay_2`, v.v. và thay thế cột RecentDelays không mong muốn trong `df` bằng `delays`."
   ]
  },
  {
   "cell_type": "code",
   "execution_count": 49,
   "metadata": {
    "collapsed": true,
    "jupyter": {
     "outputs_hidden": true
    }
   },
   "outputs": [
    {
     "name": "stdout",
     "output_type": "stream",
     "text": [
      "   FlightNumber          Airline      From         To  delay_1  delay_2  \\\n",
      "0         10045              KLM    London      Paris     23.0     47.0   \n",
      "1         10055       Air France    Madrid      Milan      NaN      NaN   \n",
      "2         10065  British Airways    London  Stockholm     24.0     43.0   \n",
      "3         10075       Air France  Budapest      Paris     13.0      NaN   \n",
      "4         10085        Swiss Air  Brussels     London     67.0     32.0   \n",
      "\n",
      "   delay_3  \n",
      "0      NaN  \n",
      "1      NaN  \n",
      "2     87.0  \n",
      "3      NaN  \n",
      "4      NaN  \n"
     ]
    }
   ],
   "source": [
    "if 'RecentDelays' in df.columns:\n",
    "    delays = df['RecentDelays'].apply(pd.Series)\n",
    "    delays.columns = ['delay_' + str(i+1) for i in range(delays.shape[1])]\n",
    "    df = df.drop('RecentDelays', axis=1).join(delays)\n",
    "else:\n",
    "    print(\"Cột 'RecentDelays' không tồn tại trong DataFrame!\")\n",
    "\n",
    "print(df)"
   ]
  },
  {
   "cell_type": "markdown",
   "metadata": {},
   "source": [
    "Bây giờ DataFrame sẽ trông đẹp hơn nhiều.\n",
    "```\n",
    "   FlightNumber          Airline      From         To  delay_1  delay_2  delay_3\n",
    "0         10045              KLM    London      Paris     23.0     47.0      NaN\n",
    "1         10055       Air France    Madrid      Milan      NaN      NaN      NaN\n",
    "2         10065  British Airways    London  Stockholm     24.0     43.0     87.0\n",
    "3         10075       Air France  Budapest      Paris     13.0      NaN      NaN\n",
    "4         10085        Swiss Air  Brussels     London     67.0     32.0      NaN\n",
    "```"
   ]
  },
  {
   "cell_type": "markdown",
   "metadata": {
    "collapsed": true,
    "jupyter": {
     "outputs_hidden": true
    }
   },
   "source": [
    "## Sử dụng MultiIndexes\n",
    "\n",
    "### Vượt ra ngoài DataFrames phẳng với các cấp chỉ mục bổ sung\n",
    "\n",
    "Mức độ: *medium*\n",
    "\n",
    "Các bài tập trước đây đã cho chúng ta thấy việc phân tích dữ liệu từ DataFrames được trang bị một mức chỉ mục duy nhất. Tuy nhiên, pandas cũng cung cấp cho bạn khả năng lập chỉ mục dữ liệu của mình bằng cách sử dụng *multiple* mức. Điều này rất giống với việc thêm các chiều mới vào một Series hoặc một DataFrame. Ví dụ, một Series là 1D, nhưng bằng cách sử dụng MultiIndex với 2 mức, chúng ta có được chức năng tương tự như một DataFrame 2D.\n",
    "\n",
    "Bộ câu hỏi dưới đây khám phá cách bạn có thể sử dụng nhiều cấp chỉ mục để nâng cao khả năng phân tích dữ liệu.\n",
    "\n",
    "Để khởi động, chúng ta sẽ xem xét một Series có hai mức chỉ số."
   ]
  },
  {
   "cell_type": "markdown",
   "metadata": {},
   "source": [
    "**44**. Với các danh sách `letters = ['A', 'B', 'C']` và `numbers = list(range(10))`, hãy xây dựng một đối tượng MultiIndex từ tích của hai danh sách. Sử dụng nó để lập chỉ mục cho một Series các số ngẫu nhiên. Gọi Series này là `s`."
   ]
  },
  {
   "cell_type": "code",
   "execution_count": 50,
   "metadata": {
    "collapsed": true,
    "jupyter": {
     "outputs_hidden": true
    }
   },
   "outputs": [
    {
     "name": "stdout",
     "output_type": "stream",
     "text": [
      "A  0   -0.113967\n",
      "   1   -0.699651\n",
      "   2   -0.811594\n",
      "   3    0.694270\n",
      "   4   -0.645175\n",
      "   5    0.610877\n",
      "   6    1.035288\n",
      "   7   -0.988185\n",
      "   8    0.384448\n",
      "   9   -1.183955\n",
      "B  0   -0.498954\n",
      "   1   -0.579669\n",
      "   2   -1.282645\n",
      "   3    1.183657\n",
      "   4    0.180360\n",
      "   5   -0.120949\n",
      "   6    1.307612\n",
      "   7    0.202408\n",
      "   8   -0.506307\n",
      "   9    0.624723\n",
      "C  0    0.530930\n",
      "   1   -2.178226\n",
      "   2    0.351061\n",
      "   3    0.487015\n",
      "   4    0.022994\n",
      "   5    2.260423\n",
      "   6    0.701160\n",
      "   7    1.351438\n",
      "   8   -1.288183\n",
      "   9   -0.197429\n",
      "dtype: float64\n"
     ]
    }
   ],
   "source": [
    "tuples = pd.MultiIndex.from_product([['A', 'B', 'C'], range(10)])\n",
    "s = pd.Series(np.random.randn(len(tuples)), index=tuples)\n",
    "print (s)"
   ]
  },
  {
   "cell_type": "markdown",
   "metadata": {},
   "source": [
    "**45.** Kiểm tra xem chỉ mục của `s` có được sắp xếp theo thứ tự từ điển hay không (đây là thuộc tính cần thiết để lập chỉ mục hoạt động chính xác với MultiIndex)."
   ]
  },
  {
   "cell_type": "code",
   "execution_count": 51,
   "metadata": {
    "collapsed": true,
    "jupyter": {
     "outputs_hidden": true
    }
   },
   "outputs": [
    {
     "name": "stdout",
     "output_type": "stream",
     "text": [
      "True\n"
     ]
    }
   ],
   "source": [
    "sorted_index = s.index.is_monotonic_increasing \n",
    "print(sorted_index)"
   ]
  },
  {
   "cell_type": "markdown",
   "metadata": {},
   "source": [
    "**46**. Chọn các nhãn `1`, `3` và `6` từ cấp độ thứ hai của MultiIndexed Series."
   ]
  },
  {
   "cell_type": "code",
   "execution_count": 52,
   "metadata": {
    "collapsed": true,
    "jupyter": {
     "outputs_hidden": true
    }
   },
   "outputs": [
    {
     "name": "stdout",
     "output_type": "stream",
     "text": [
      "A  1   -0.699651\n",
      "   3    0.694270\n",
      "   6    1.035288\n",
      "B  1   -0.579669\n",
      "   3    1.183657\n",
      "   6    1.307612\n",
      "C  1   -2.178226\n",
      "   3    0.487015\n",
      "   6    0.701160\n",
      "dtype: float64\n"
     ]
    }
   ],
   "source": [
    "s_level_1 = s.loc[(slice(None), [1, 3, 6])]\n",
    "print(s_level_1)"
   ]
  },
  {
   "cell_type": "markdown",
   "metadata": {},
   "source": [
    "**47**. Cắt các Series `s`; cắt đến nhãn 'B' cho cấp độ đầu tiên và từ nhãn 5 trở đi cho cấp độ thứ hai."
   ]
  },
  {
   "cell_type": "code",
   "execution_count": 53,
   "metadata": {
    "collapsed": true,
    "jupyter": {
     "outputs_hidden": true
    }
   },
   "outputs": [
    {
     "name": "stdout",
     "output_type": "stream",
     "text": [
      "B  5   -0.120949\n",
      "   6    1.307612\n",
      "   7    0.202408\n",
      "   8   -0.506307\n",
      "   9    0.624723\n",
      "C  5    2.260423\n",
      "   6    0.701160\n",
      "   7    1.351438\n",
      "   8   -1.288183\n",
      "   9   -0.197429\n",
      "dtype: float64\n"
     ]
    }
   ],
   "source": [
    "sliced_s = s.loc['B':, 5:]\n",
    "print(sliced_s)"
   ]
  },
  {
   "cell_type": "markdown",
   "metadata": {},
   "source": [
    "**48**. Tính tổng các giá trị trong `s` cho mỗi nhãn ở cấp độ đầu tiên (bạn sẽ có Series cung cấp tổng cho các nhãn A, B và C)."
   ]
  },
  {
   "cell_type": "code",
   "execution_count": 54,
   "metadata": {
    "collapsed": true,
    "jupyter": {
     "outputs_hidden": true
    }
   },
   "outputs": [
    {
     "name": "stdout",
     "output_type": "stream",
     "text": [
      "A   -1.717645\n",
      "B    0.510236\n",
      "C    2.041182\n",
      "dtype: float64\n"
     ]
    }
   ],
   "source": [
    "sum_by_first = s.groupby(level=0).sum()  \n",
    "print(sum_by_first)"
   ]
  },
  {
   "cell_type": "markdown",
   "metadata": {},
   "source": [
    "**49**. Giả sử `sum()` (và các phương pháp khác) không chấp nhận đối số từ khóa `level`. Bạn có thể thực hiện tương đương với `s.sum(level=1)` bằng cách nào khác?"
   ]
  },
  {
   "cell_type": "code",
   "execution_count": 55,
   "metadata": {
    "collapsed": true,
    "jupyter": {
     "outputs_hidden": true
    }
   },
   "outputs": [
    {
     "name": "stdout",
     "output_type": "stream",
     "text": [
      "A   -1.717645\n",
      "B    0.510236\n",
      "C    2.041182\n",
      "dtype: float64\n"
     ]
    }
   ],
   "source": [
    "sum_by_second = s.unstack().sum(axis=1)\n",
    "print(sum_by_second)"
   ]
  },
  {
   "cell_type": "markdown",
   "metadata": {},
   "source": [
    "**50**. Đổi các cấp độ của MultiIndex để chúng ta có một chỉ mục có dạng (chữ cái, số). Series mới này có được sắp xếp theo lexorp đúng không? Nếu không, hãy sắp xếp nó."
   ]
  },
  {
   "cell_type": "code",
   "execution_count": 56,
   "metadata": {},
   "outputs": [
    {
     "name": "stdout",
     "output_type": "stream",
     "text": [
      "0  A   -0.113967\n",
      "   B   -0.498954\n",
      "   C    0.530930\n",
      "1  A   -0.699651\n",
      "   B   -0.579669\n",
      "   C   -2.178226\n",
      "2  A   -0.811594\n",
      "   B   -1.282645\n",
      "   C    0.351061\n",
      "3  A    0.694270\n",
      "   B    1.183657\n",
      "   C    0.487015\n",
      "4  A   -0.645175\n",
      "   B    0.180360\n",
      "   C    0.022994\n",
      "5  A    0.610877\n",
      "   B   -0.120949\n",
      "   C    2.260423\n",
      "6  A    1.035288\n",
      "   B    1.307612\n",
      "   C    0.701160\n",
      "7  A   -0.988185\n",
      "   B    0.202408\n",
      "   C    1.351438\n",
      "8  A    0.384448\n",
      "   B   -0.506307\n",
      "   C   -1.288183\n",
      "9  A   -1.183955\n",
      "   B    0.624723\n",
      "   C   -0.197429\n",
      "dtype: float64\n"
     ]
    }
   ],
   "source": [
    "s_swapped = s.swaplevel().sort_index()\n",
    "print(s_swapped)"
   ]
  }
 ],
 "metadata": {
  "kernelspec": {
   "display_name": "base",
   "language": "python",
   "name": "python3"
  },
  "language_info": {
   "codemirror_mode": {
    "name": "ipython",
    "version": 3
   },
   "file_extension": ".py",
   "mimetype": "text/x-python",
   "name": "python",
   "nbconvert_exporter": "python",
   "pygments_lexer": "ipython3",
   "version": "3.12.7"
  }
 },
 "nbformat": 4,
 "nbformat_minor": 4
}
