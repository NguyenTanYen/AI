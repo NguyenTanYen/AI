{
 "cells": [
  {
   "cell_type": "markdown",
   "metadata": {},
   "source": [
    "#### BÀI TẬP CÁ NHÂN"
   ]
  },
  {
   "cell_type": "markdown",
   "metadata": {},
   "source": [
    "##### Làm việc với văn bản \n"
   ]
  },
  {
   "cell_type": "markdown",
   "metadata": {},
   "source": [
    "* Làm thế nào để hiển thị văn bản trên cửa sổ Pygame? \n"
   ]
  },
  {
   "cell_type": "code",
   "execution_count": 1,
   "metadata": {},
   "outputs": [
    {
     "name": "stdout",
     "output_type": "stream",
     "text": [
      "pygame 2.6.1 (SDL 2.28.4, Python 3.12.7)\n",
      "Hello from the pygame community. https://www.pygame.org/contribute.html\n"
     ]
    }
   ],
   "source": [
    "\n",
    "import pygame  \n",
    "\n",
    "pygame.init()  \n",
    "screen = pygame.display.set_mode((500, 300))  \n",
    "pygame.display.set_caption(\"Hiển thị văn bản\")  \n",
    "font = pygame.font.Font(None, 36)  \n",
    "text = font.render(\"Nguyen Tan Yen!\", True, (0, 0, 0))  \n",
    "running = True  \n",
    "while running:  \n",
    "    screen.fill((255, 255, 255))  \n",
    "    screen.blit(text, (50, 100)) \n",
    "\n",
    "    for event in pygame.event.get():  \n",
    "        if event.type == pygame.QUIT:  \n",
    "            running = False  \n",
    "\n",
    "    pygame.display.flip()  \n",
    "\n",
    "pygame.quit()\n"
   ]
  },
  {
   "cell_type": "markdown",
   "metadata": {},
   "source": [
    "* Làm thế nào để tạo hộp cho phép nhập văn bản với Pygame? "
   ]
  },
  {
   "cell_type": "code",
   "execution_count": 2,
   "metadata": {},
   "outputs": [
    {
     "name": "stdout",
     "output_type": "stream",
     "text": [
      "Đã nhập: Nguyen Tan Yen\n"
     ]
    }
   ],
   "source": [
    "import pygame  \n",
    "\n",
    "pygame.init()  \n",
    "\n",
    "screen = pygame.display.set_mode((500, 300))  \n",
    "pygame.display.set_caption(\"Hộp nhập văn bản\")  \n",
    "\n",
    "font = pygame.font.Font(None, 36)  \n",
    "input_text = \"\"  \n",
    "active = False  \n",
    "\n",
    "running = True  \n",
    "while running:  \n",
    "    screen.fill((30, 30, 30))  \n",
    " \n",
    "    color = (200, 200, 200) if active else (100, 100, 100)  \n",
    "    pygame.draw.rect(screen, color, (50, 100, 400, 40))  \n",
    "\n",
    "    text_surface = font.render(input_text, True, (255, 255, 255))  \n",
    "    screen.blit(text_surface, (60, 110))  \n",
    "\n",
    "    for event in pygame.event.get():  \n",
    "        if event.type == pygame.QUIT:  \n",
    "            running = False  \n",
    "        if event.type == pygame.MOUSEBUTTONDOWN:  \n",
    "            if 50 < event.pos[0] < 450 and 100 < event.pos[1] < 140:  \n",
    "                active = True  \n",
    "            else:  \n",
    "                active = False  \n",
    "        if event.type == pygame.KEYDOWN and active:  \n",
    "            if event.key == pygame.K_RETURN:  \n",
    "                print(\"Đã nhập:\", input_text)  \n",
    "                input_text = \"\"  \n",
    "            elif event.key == pygame.K_BACKSPACE:  \n",
    "                input_text = input_text[:-1]  \n",
    "            else:  \n",
    "                input_text += event.unicode  \n",
    "\n",
    "    pygame.display.flip()  \n",
    "\n",
    "pygame.quit()\n"
   ]
  },
  {
   "cell_type": "markdown",
   "metadata": {},
   "source": [
    "##### Làm việc với hình ảnh "
   ]
  },
  {
   "cell_type": "markdown",
   "metadata": {},
   "source": [
    "* Làm thế nào để hiển thị hình ảnh bằng PyGame? "
   ]
  },
  {
   "cell_type": "code",
   "execution_count": 4,
   "metadata": {},
   "outputs": [],
   "source": [
    "import pygame  \n",
    "\n",
    "pygame.init()  \n",
    "\n",
    "screen = pygame.display.set_mode((1000, 1000))  \n",
    "pygame.display.set_caption(\"Hiển thị hình ảnh\")  \n",
    "\n",
    "image = pygame.image.load(\"image.png\")  \n",
    "\n",
    "running = True  \n",
    "while running:  \n",
    "    screen.fill((0, 0, 0))  \n",
    "    screen.blit(image, (100, 50))  \n",
    "\n",
    "    for event in pygame.event.get():  \n",
    "        if event.type == pygame.QUIT:  \n",
    "            running = False  \n",
    "\n",
    "    pygame.display.flip()  \n",
    "\n",
    "pygame.quit()\n"
   ]
  },
  {
   "cell_type": "markdown",
   "metadata": {},
   "source": [
    "* Làm thế nào để lấy chiều rộng và chiều cao của hình ảnh trong Pygame? "
   ]
  },
  {
   "cell_type": "code",
   "execution_count": 5,
   "metadata": {},
   "outputs": [
    {
     "name": "stdout",
     "output_type": "stream",
     "text": [
      "Kích thước ảnh: 1002x1002\n"
     ]
    }
   ],
   "source": [
    "width, height = image.get_size()\n",
    "print(f\"Kích thước ảnh: {width}x{height}\")"
   ]
  },
  {
   "cell_type": "markdown",
   "metadata": {},
   "source": [
    "* Làm thế nào để xoay và thay đổi kích thước hình ảnh bằng PyGame? "
   ]
  },
  {
   "cell_type": "code",
   "execution_count": 6,
   "metadata": {},
   "outputs": [],
   "source": [
    "rotated_image = pygame.transform.rotate(image, 90)\n",
    "resized_image = pygame.transform.scale(image, (200, 200))\n"
   ]
  },
  {
   "cell_type": "markdown",
   "metadata": {},
   "source": [
    "*  Làm thế nào để để lật hình ảnh "
   ]
  },
  {
   "cell_type": "code",
   "execution_count": 7,
   "metadata": {},
   "outputs": [],
   "source": [
    "flipped_image = pygame.transform.flip(image, True, False)\n",
    "flipped_image = pygame.transform.flip(image, False, True)\n"
   ]
  },
  {
   "cell_type": "markdown",
   "metadata": {},
   "source": [
    "*  Làm thế nào để di chuyển hình ảnh bằng chuột trong PyGame? "
   ]
  },
  {
   "cell_type": "code",
   "execution_count": 8,
   "metadata": {},
   "outputs": [],
   "source": [
    "import pygame\n",
    "\n",
    "pygame.init()\n",
    "screen = pygame.display.set_mode((500, 400))\n",
    "pygame.display.set_caption(\"Di chuyển hình ảnh bằng chuột\")\n",
    "\n",
    "image = pygame.image.load(\"image.png\")\n",
    "rect = image.get_rect(topleft=(50, 50))\n",
    "dragging = False\n",
    "\n",
    "running = True\n",
    "while running:\n",
    "    screen.fill((255, 255, 255))\n",
    "    screen.blit(image, rect.topleft)\n",
    "\n",
    "    for event in pygame.event.get():\n",
    "        if event.type == pygame.QUIT:\n",
    "            running = False\n",
    "        if event.type == pygame.MOUSEBUTTONDOWN:\n",
    "            if rect.collidepoint(event.pos):\n",
    "                dragging = True\n",
    "                offset_x, offset_y = event.pos[0] - rect.x, event.pos[1] - rect.y\n",
    "        if event.type == pygame.MOUSEBUTTONUP:\n",
    "            dragging = False\n",
    "        if event.type == pygame.MOUSEMOTION and dragging:\n",
    "            rect.x, rect.y = event.pos[0] - offset_x, event.pos[1] - offset_y\n",
    "\n",
    "    pygame.display.flip()\n",
    "\n",
    "pygame.quit()"
   ]
  },
  {
   "cell_type": "markdown",
   "metadata": {},
   "source": [
    "* Làm thế nào để sử dụng chuột để thay đổi kích thước và xoay hình ảnh trong PyGame?"
   ]
  },
  {
   "cell_type": "code",
   "execution_count": 9,
   "metadata": {},
   "outputs": [],
   "source": [
    "import pygame\n",
    "\n",
    "pygame.init()\n",
    "screen = pygame.display.set_mode((600, 500))\n",
    "pygame.display.set_caption(\"Thay đổi kích thước và xoay hình ảnh\")\n",
    "\n",
    "image = pygame.image.load(\"image.png\")\n",
    "rect = image.get_rect(center=(300, 250))\n",
    "angle = 0\n",
    "scale = 1.0\n",
    "\n",
    "running = True\n",
    "while running:\n",
    "    screen.fill((255, 255, 255))\n",
    "    rotated_image = pygame.transform.rotate(image, angle)\n",
    "    scaled_image = pygame.transform.scale(rotated_image, (int(rect.width * scale), int(rect.height * scale)))\n",
    "    new_rect = scaled_image.get_rect(center=rect.center)\n",
    "\n",
    "    screen.blit(scaled_image, new_rect.topleft)\n",
    "\n",
    "    for event in pygame.event.get():\n",
    "        if event.type == pygame.QUIT:\n",
    "            running = False\n",
    "        if event.type == pygame.MOUSEWHEEL:\n",
    "            scale += event.y * 0.1  \n",
    "            scale = max(0.1, scale)  \n",
    "        if event.type == pygame.MOUSEBUTTONDOWN:\n",
    "            if event.button == 3: \n",
    "                angle += 15\n",
    "\n",
    "    pygame.display.flip()\n",
    "\n",
    "pygame.quit()\n"
   ]
  },
  {
   "cell_type": "markdown",
   "metadata": {},
   "source": [
    "##### PyGame Advance"
   ]
  },
  {
   "cell_type": "markdown",
   "metadata": {},
   "source": [
    "*  Làm thế nào để tạo nút trong trò chơi bằng PyGame?"
   ]
  },
  {
   "cell_type": "code",
   "execution_count": 13,
   "metadata": {},
   "outputs": [
    {
     "name": "stdout",
     "output_type": "stream",
     "text": [
      "Nút được nhấn!\n"
     ]
    }
   ],
   "source": [
    "import pygame\n",
    "\n",
    "pygame.init()\n",
    "screen = pygame.display.set_mode((500, 300))\n",
    "font = pygame.font.Font(None, 36)\n",
    "\n",
    "button_rect = pygame.Rect(150, 100, 200, 50)\n",
    "button_color = (0, 128, 255)\n",
    "\n",
    "running = True\n",
    "while running:\n",
    "    screen.fill((30, 30, 30))\n",
    "\n",
    "    pygame.draw.rect(screen, button_color, button_rect)\n",
    "    text = font.render(\"Start game\", True, (255, 255, 255))\n",
    "    screen.blit(text, (button_rect.x + 50, button_rect.y + 10))\n",
    "\n",
    "    for event in pygame.event.get():\n",
    "        if event.type == pygame.QUIT:\n",
    "            running = False\n",
    "        if event.type == pygame.MOUSEBUTTONDOWN:\n",
    "            if button_rect.collidepoint(event.pos):\n",
    "                print(\"Nút được nhấn!\")\n",
    "\n",
    "    pygame.display.flip()\n",
    "\n",
    "pygame.quit()\n"
   ]
  },
  {
   "cell_type": "markdown",
   "metadata": {},
   "source": [
    "*  Làm thế nào để vẽ thiết kế bằng phím mũi tên trong PyGame?"
   ]
  },
  {
   "cell_type": "code",
   "execution_count": 14,
   "metadata": {},
   "outputs": [],
   "source": [
    "import pygame\n",
    "\n",
    "pygame.init()\n",
    "screen = pygame.display.set_mode((500, 500))\n",
    "clock = pygame.time.Clock()\n",
    "\n",
    "x, y = 250, 250\n",
    "running = True\n",
    "\n",
    "while running:\n",
    "    for event in pygame.event.get():\n",
    "        if event.type == pygame.QUIT:\n",
    "            running = False\n",
    "\n",
    "    keys = pygame.key.get_pressed()\n",
    "    if keys[pygame.K_UP]: y -= 5\n",
    "    if keys[pygame.K_DOWN]: y += 5\n",
    "    if keys[pygame.K_LEFT]: x -= 5\n",
    "    if keys[pygame.K_RIGHT]: x += 5\n",
    "\n",
    "    pygame.draw.circle(screen, (255, 255, 255), (x, y), 5)\n",
    "    pygame.display.flip()\n",
    "    clock.tick(30)\n",
    "\n",
    "pygame.quit()\n"
   ]
  },
  {
   "cell_type": "markdown",
   "metadata": {},
   "source": [
    "*  Làm thế nào để di chuyển đối tượng trong PyGame?"
   ]
  },
  {
   "cell_type": "code",
   "execution_count": 16,
   "metadata": {},
   "outputs": [],
   "source": [
    "import pygame\n",
    "\n",
    "pygame.init()\n",
    "screen = pygame.display.set_mode((500, 500))\n",
    "clock = pygame.time.Clock()\n",
    "\n",
    "rect = pygame.Rect(200, 200, 50, 50)\n",
    "\n",
    "running = True\n",
    "while running:\n",
    "    screen.fill((0, 0, 0))\n",
    "\n",
    "    for event in pygame.event.get():\n",
    "        if event.type == pygame.QUIT:\n",
    "            running = False\n",
    "\n",
    "    keys = pygame.key.get_pressed()\n",
    "    if keys[pygame.K_LEFT]: rect.x -= 5\n",
    "    if keys[pygame.K_RIGHT]: rect.x += 5\n",
    "    if keys[pygame.K_UP]: rect.y -= 5\n",
    "    if keys[pygame.K_DOWN]: rect.y += 5\n",
    "\n",
    "    pygame.draw.rect(screen, (0, 128, 255), rect)\n",
    "    pygame.display.flip()\n",
    "    clock.tick(30)\n",
    "\n",
    "pygame.quit()"
   ]
  },
  {
   "cell_type": "markdown",
   "metadata": {},
   "source": [
    "* Làm thế nào để làm cho đối tượng nhảy trong PyGame?"
   ]
  },
  {
   "cell_type": "code",
   "execution_count": 17,
   "metadata": {},
   "outputs": [],
   "source": [
    "import pygame\n",
    "\n",
    "pygame.init()\n",
    "screen = pygame.display.set_mode((500, 500))\n",
    "clock = pygame.time.Clock()\n",
    "\n",
    "rect = pygame.Rect(200, 400, 50, 50)\n",
    "jumping = False\n",
    "velocity = 0\n",
    "gravity = 0.5\n",
    "\n",
    "running = True\n",
    "while running:\n",
    "    screen.fill((0, 0, 0))\n",
    "\n",
    "    for event in pygame.event.get():\n",
    "        if event.type == pygame.QUIT:\n",
    "            running = False\n",
    "        if event.type == pygame.KEYDOWN and event.key == pygame.K_SPACE:\n",
    "            if not jumping:\n",
    "                jumping = True\n",
    "                velocity = -10\n",
    "\n",
    "    if jumping:\n",
    "        rect.y += velocity\n",
    "        velocity += gravity\n",
    "        if rect.y >= 400:\n",
    "            rect.y = 400\n",
    "            jumping = False\n",
    "\n",
    "    pygame.draw.rect(screen, (0, 255, 0), rect)\n",
    "    pygame.display.flip()\n",
    "    clock.tick(30)\n",
    "\n",
    "pygame.quit()"
   ]
  },
  {
   "cell_type": "markdown",
   "metadata": {},
   "source": [
    "* Làm thế nào để thêm ranh giới vào đối tượng trong Pygame?"
   ]
  },
  {
   "cell_type": "code",
   "execution_count": 21,
   "metadata": {},
   "outputs": [],
   "source": [
    "import pygame\n",
    "\n",
    "pygame.init()\n",
    "screen = pygame.display.set_mode((500, 500))\n",
    "clock = pygame.time.Clock()\n",
    "\n",
    "rect = pygame.Rect(200, 200, 50, 50)\n",
    "\n",
    "running = True\n",
    "while running:\n",
    "    screen.fill((0, 0, 0))\n",
    "\n",
    "    for event in pygame.event.get():\n",
    "        if event.type == pygame.QUIT:\n",
    "            running = False\n",
    "\n",
    "    keys = pygame.key.get_pressed()\n",
    "    if keys[pygame.K_LEFT]: rect.x -= 5\n",
    "    if keys[pygame.K_RIGHT]: rect.x += 5\n",
    "    if keys[pygame.K_UP]: rect.y -= 5\n",
    "    if keys[pygame.K_DOWN]: rect.y += 5\n",
    "\n",
    "    if rect.left < 0: rect.left = 0\n",
    "    if rect.right > 500: rect.right = 500\n",
    "    if rect.top < 0: rect.top = 0\n",
    "    if rect.bottom > 500: rect.bottom = 500\n",
    "\n",
    "    pygame.draw.rect(screen, (0, 128, 255), rect)\n",
    "    pygame.display.flip()\n",
    "    clock.tick(30)\n",
    "\n",
    "pygame.quit()\n"
   ]
  },
  {
   "cell_type": "markdown",
   "metadata": {},
   "source": [
    "* Làm thế nào để phát hiện va chạm trong PyGame?"
   ]
  },
  {
   "cell_type": "code",
   "execution_count": 23,
   "metadata": {},
   "outputs": [
    {
     "name": "stdout",
     "output_type": "stream",
     "text": [
      "Va chạm!\n",
      "Va chạm!\n",
      "Va chạm!\n",
      "Va chạm!\n",
      "Va chạm!\n",
      "Va chạm!\n",
      "Va chạm!\n",
      "Va chạm!\n",
      "Va chạm!\n",
      "Va chạm!\n",
      "Va chạm!\n",
      "Va chạm!\n",
      "Va chạm!\n",
      "Va chạm!\n",
      "Va chạm!\n",
      "Va chạm!\n",
      "Va chạm!\n",
      "Va chạm!\n",
      "Va chạm!\n",
      "Va chạm!\n",
      "Va chạm!\n",
      "Va chạm!\n",
      "Va chạm!\n",
      "Va chạm!\n",
      "Va chạm!\n",
      "Va chạm!\n",
      "Va chạm!\n",
      "Va chạm!\n",
      "Va chạm!\n",
      "Va chạm!\n",
      "Va chạm!\n",
      "Va chạm!\n",
      "Va chạm!\n",
      "Va chạm!\n",
      "Va chạm!\n",
      "Va chạm!\n",
      "Va chạm!\n",
      "Va chạm!\n",
      "Va chạm!\n",
      "Va chạm!\n",
      "Va chạm!\n",
      "Va chạm!\n",
      "Va chạm!\n",
      "Va chạm!\n",
      "Va chạm!\n",
      "Va chạm!\n",
      "Va chạm!\n",
      "Va chạm!\n",
      "Va chạm!\n",
      "Va chạm!\n",
      "Va chạm!\n",
      "Va chạm!\n",
      "Va chạm!\n"
     ]
    }
   ],
   "source": [
    "import pygame\n",
    "\n",
    "pygame.init()\n",
    "screen = pygame.display.set_mode((500, 500))\n",
    "clock = pygame.time.Clock()\n",
    "\n",
    "rect1 = pygame.Rect(150, 200, 50, 50)\n",
    "rect2 = pygame.Rect(300, 200, 50, 50)\n",
    "\n",
    "running = True\n",
    "while running:\n",
    "    screen.fill((0, 0, 0))\n",
    "\n",
    "    for event in pygame.event.get():\n",
    "        if event.type == pygame.QUIT:\n",
    "            running = False\n",
    "\n",
    "    keys = pygame.key.get_pressed()\n",
    "    if keys[pygame.K_LEFT]: rect1.x -= 5\n",
    "    if keys[pygame.K_RIGHT]: rect1.x += 5\n",
    "    if keys[pygame.K_UP]: rect1.y -= 5\n",
    "    if keys[pygame.K_DOWN]: rect1.y += 5\n",
    "\n",
    "    pygame.draw.rect(screen, (0, 255, 0), rect1)\n",
    "    pygame.draw.rect(screen, (255, 0, 0), rect2)\n",
    "\n",
    "    if rect1.colliderect(rect2):\n",
    "        print(\"Va chạm!\")\n",
    "\n",
    "    pygame.display.flip()\n",
    "    clock.tick(30)\n",
    "\n",
    "pygame.quit()"
   ]
  },
  {
   "cell_type": "markdown",
   "metadata": {},
   "source": [
    "* Làm thế nào để tạo Sprite?"
   ]
  },
  {
   "cell_type": "code",
   "execution_count": 26,
   "metadata": {},
   "outputs": [],
   "source": [
    "import pygame \n",
    "import random \n",
    "\n",
    "COLOR = (255, 100, 98) \n",
    "SURFACE_COLOR = (167, 255, 100) \n",
    "WIDTH = 500\n",
    "HEIGHT = 500\n",
    "\n",
    "class Sprite(pygame.sprite.Sprite): \n",
    "\tdef __init__(self, color, height, width): \n",
    "\t\tsuper().__init__() \n",
    "\n",
    "\t\tself.image = pygame.Surface([width, height]) \n",
    "\t\tself.image.fill(SURFACE_COLOR) \n",
    "\t\tself.image.set_colorkey(COLOR) \n",
    "\n",
    "\t\tpygame.draw.rect(self.image,color,pygame.Rect(0, 0, width, height)) \n",
    "\n",
    "\t\tself.rect = self.image.get_rect() \n",
    "\n",
    "\n",
    "pygame.init() \n",
    "\n",
    "RED = (255, 0, 0) \n",
    "\n",
    "size = (WIDTH, HEIGHT) \n",
    "screen = pygame.display.set_mode(size) \n",
    "pygame.display.set_caption(\"Creating Sprite\") \n",
    "\n",
    "all_sprites_list = pygame.sprite.Group() \n",
    "\n",
    "object_ = Sprite(RED, 20, 30) \n",
    "object_.rect.x = 200\n",
    "object_.rect.y = 300\n",
    "\n",
    "all_sprites_list.add(object_) \n",
    "\n",
    "exit = True\n",
    "clock = pygame.time.Clock() \n",
    "\n",
    "while exit: \n",
    "\tfor event in pygame.event.get(): \n",
    "\t\tif event.type == pygame.QUIT: \n",
    "\t\t\texit = False\n",
    "\n",
    "\tall_sprites_list.update() \n",
    "\tscreen.fill(SURFACE_COLOR) \n",
    "\tall_sprites_list.draw(screen) \n",
    "\tpygame.display.flip() \n",
    "\tclock.tick(60) \n",
    "\n",
    "pygame.quit() \n"
   ]
  },
  {
   "cell_type": "markdown",
   "metadata": {},
   "source": [
    "* Làm thế nào để điều khiển Sprite?"
   ]
  },
  {
   "cell_type": "code",
   "execution_count": 27,
   "metadata": {},
   "outputs": [],
   "source": [
    "import pygame\n",
    "\n",
    "class Player(pygame.sprite.Sprite):\n",
    "    def __init__(self):\n",
    "        super().__init__()\n",
    "        self.image = pygame.Surface((50, 50))\n",
    "        self.image.fill((0, 255, 0))\n",
    "        self.rect = self.image.get_rect(center=(250, 250))\n",
    "\n",
    "    def update(self):\n",
    "        keys = pygame.key.get_pressed()\n",
    "        if keys[pygame.K_LEFT]: self.rect.x -= 5\n",
    "        if keys[pygame.K_RIGHT]: self.rect.x += 5\n",
    "        if keys[pygame.K_UP]: self.rect.y -= 5\n",
    "        if keys[pygame.K_DOWN]: self.rect.y += 5\n",
    "\n",
    "pygame.init()\n",
    "screen = pygame.display.set_mode((500, 500))\n",
    "\n",
    "all_sprites = pygame.sprite.Group()\n",
    "player = Player()\n",
    "all_sprites.add(player)\n",
    "\n",
    "running = True\n",
    "while running:\n",
    "    screen.fill((0, 0, 0))\n",
    "\n",
    "    for event in pygame.event.get():\n",
    "        if event.type == pygame.QUIT:\n",
    "            running = False\n",
    "\n",
    "    all_sprites.update()\n",
    "    all_sprites.draw(screen)\n",
    "\n",
    "    pygame.display.flip()\n",
    "\n",
    "pygame.quit()\n"
   ]
  },
  {
   "cell_type": "markdown",
   "metadata": {},
   "source": [
    "* Làm thế nào để thêm hiệu ứng màu sắc bằng pygame?"
   ]
  },
  {
   "cell_type": "code",
   "execution_count": 29,
   "metadata": {},
   "outputs": [],
   "source": [
    "import pygame\n",
    "\n",
    "pygame.init()\n",
    "screen = pygame.display.set_mode((500, 500))\n",
    "\n",
    "image = pygame.Surface((100, 100))\n",
    "image.fill((255, 255, 255))\n",
    "rect = image.get_rect(center=(250, 250))\n",
    "\n",
    "running = True\n",
    "while running:\n",
    "    screen.fill((0, 0, 0))\n",
    "\n",
    "    for event in pygame.event.get():\n",
    "        if event.type == pygame.QUIT:\n",
    "            running = False\n",
    "\n",
    "    image.fill((255, 0, 0), special_flags=pygame.BLEND_RGB_ADD)\n",
    "    \n",
    "    screen.blit(image, rect)\n",
    "    pygame.display.flip()\n",
    "\n",
    "pygame.quit()\n"
   ]
  },
  {
   "cell_type": "markdown",
   "metadata": {},
   "source": [
    "*  Làm thế nào để phát tệp âm thanh trong Pygame?"
   ]
  },
  {
   "cell_type": "code",
   "execution_count": 2,
   "metadata": {},
   "outputs": [],
   "source": [
    "import pygame\n",
    "\n",
    "pygame.init()\n",
    "pygame.mixer.init()\n",
    "\n",
    "WIDTH, HEIGHT = 400, 300\n",
    "screen = pygame.display.set_mode((WIDTH, HEIGHT))\n",
    "pygame.display.set_caption(\"Phát nhạc với nút Dừng & Tiếp tục\")\n",
    "\n",
    "sound = pygame.mixer.Sound(\"sound.wav\")  \n",
    "sound.play()\n",
    "\n",
    "pygame.mixer.music.load(\"background.mp3\")  \n",
    "pygame.mixer.music.play(-1)  \n",
    "\n",
    "music_paused = False\n",
    "\n",
    "running = True\n",
    "while running:\n",
    "    screen.fill((30, 30, 30)) \n",
    "\n",
    "    for event in pygame.event.get():\n",
    "        if event.type == pygame.QUIT:\n",
    "            running = False\n",
    "\n",
    "        if event.type == pygame.KEYDOWN:\n",
    "            if event.key == pygame.K_SPACE:\n",
    "                if music_paused:\n",
    "                    pygame.mixer.music.unpause()  \n",
    "                    music_paused = False\n",
    "                else:\n",
    "                    pygame.mixer.music.pause()  \n",
    "                    music_paused = True\n",
    "\n",
    "            if event.key == pygame.K_ESCAPE:\n",
    "                running = False \n",
    "\n",
    "    pygame.display.flip()\n",
    "\n",
    "pygame.mixer.music.stop()\n",
    "pygame.quit()"
   ]
  }
 ],
 "metadata": {
  "kernelspec": {
   "display_name": "base",
   "language": "python",
   "name": "python3"
  },
  "language_info": {
   "codemirror_mode": {
    "name": "ipython",
    "version": 3
   },
   "file_extension": ".py",
   "mimetype": "text/x-python",
   "name": "python",
   "nbconvert_exporter": "python",
   "pygments_lexer": "ipython3",
   "version": "3.12.7"
  }
 },
 "nbformat": 4,
 "nbformat_minor": 2
}
